{
 "cells": [
  {
   "cell_type": "markdown",
   "metadata": {},
   "source": [
    "### Finetuning gpt 2 for text to sql generation"
   ]
  },
  {
   "cell_type": "code",
   "execution_count": 1,
   "metadata": {},
   "outputs": [
    {
     "name": "stderr",
     "output_type": "stream",
     "text": [
      "C:\\Users\\Hp\\miniconda3\\Lib\\site-packages\\tqdm\\auto.py:21: TqdmWarning: IProgress not found. Please update jupyter and ipywidgets. See https://ipywidgets.readthedocs.io/en/stable/user_install.html\n",
      "  from .autonotebook import tqdm as notebook_tqdm\n"
     ]
    }
   ],
   "source": [
    "#importing necessary libraries \n",
    "import os \n",
    "import torch\n",
    "from datasets import load_dataset \n",
    "from transformers import (\n",
    "    AutoModelForCausalLM,\n",
    "    AutoTokenizer,\n",
    "    TrainingArguments,\n",
    "    pipeline,\n",
    "    logging\n",
    ")\n",
    "\n",
    "from trl import SFTTrainer\n",
    "from peft import LoraConfig"
   ]
  },
  {
   "cell_type": "markdown",
   "metadata": {},
   "source": [
    "### Load and save model "
   ]
  },
  {
   "cell_type": "code",
   "execution_count": 2,
   "metadata": {},
   "outputs": [],
   "source": [
    "path_to_model = os.path.join('model','gpt-2')\n",
    "\n",
    "if not os.path.exists(path_to_model):\n",
    "    !mkdir {path_to_model}"
   ]
  },
  {
   "cell_type": "code",
   "execution_count": 35,
   "metadata": {},
   "outputs": [],
   "source": [
    "# Load model directly\n",
    "from transformers import AutoTokenizer, AutoModelForCausalLM\n",
    "\n",
    "tokenizer = AutoTokenizer.from_pretrained(path_to_model)\n",
    "model = AutoModelForCausalLM.from_pretrained(path_to_model)"
   ]
  },
  {
   "cell_type": "code",
   "execution_count": 36,
   "metadata": {},
   "outputs": [],
   "source": [
    "tokenizer.pad_token = tokenizer.eos_token"
   ]
  },
  {
   "cell_type": "code",
   "execution_count": 4,
   "metadata": {},
   "outputs": [],
   "source": [
    "#save the model to the path specified\n",
    "\n",
    "# tokenizer.save_pretrained(path_to_model)\n",
    "\n",
    "# model.save_pretrained(path_to_model)"
   ]
  },
  {
   "cell_type": "markdown",
   "metadata": {},
   "source": [
    "### Custom gpt on the dataset"
   ]
  },
  {
   "cell_type": "code",
   "execution_count": 42,
   "metadata": {},
   "outputs": [],
   "source": [
    "# Use a pipeline as a high-level helper\n",
    "from transformers import pipeline\n",
    "\n",
    "pipe2 = pipeline(\"text-generation\", model=model,tokenizer=tokenizer)"
   ]
  },
  {
   "cell_type": "code",
   "execution_count": 43,
   "metadata": {},
   "outputs": [
    {
     "name": "stdout",
     "output_type": "stream",
     "text": [
      "[{'generated_text': 'write sql code for; What is the average, minimum, and maximum age of all singers from France?\\n\\nThe average, minimum, and maximum age of all singers from France. We can find out more about the results with the following test program'}]\n"
     ]
    }
   ],
   "source": [
    "prompt = \"write sql code for; What is the average, minimum, and maximum age of all singers from France?\"\n",
    "output = pipe2(prompt)\n",
    "\n",
    "# Print the generated output\n",
    "print(output)"
   ]
  },
  {
   "cell_type": "markdown",
   "metadata": {},
   "source": [
    "### Loading and Structuring the Data"
   ]
  },
  {
   "cell_type": "code",
   "execution_count": 7,
   "metadata": {},
   "outputs": [],
   "source": [
    "import json\n",
    "\n",
    "train_file_path = 'data\\extracted_train.json'\n",
    "test_file_path = 'data\\extracted_test.json'\n",
    "\n",
    "#train\n",
    "with open(train_file_path,'r') as file:\n",
    "    train_data = json.load(file)\n",
    "    \n",
    "#test \n",
    "with open(test_file_path,'r') as file:\n",
    "    test_data = json.load(file)"
   ]
  },
  {
   "cell_type": "code",
   "execution_count": 15,
   "metadata": {},
   "outputs": [
    {
     "data": {
      "text/plain": [
       "Dataset({\n",
       "    features: ['text'],\n",
       "    num_rows: 7000\n",
       "})"
      ]
     },
     "execution_count": 15,
     "metadata": {},
     "output_type": "execute_result"
    }
   ],
   "source": [
    "#convert into huggingface dataset format\n",
    "from datasets import Dataset\n",
    "\n",
    "train_questions = train_data['train_questions']\n",
    "train_queries = train_data['train_queries']\n",
    "\n",
    "#List all employees who joined after 2020 ### SELECT * FROM employees WHERE join_date > '2020-01-01';\n",
    "\n",
    "combined_dataset = []\n",
    "for i in range(len(train_queries)):\n",
    "    combined_dataset.append('Text: ' + train_questions[i] + '### Geneated_sql_code:  ' + train_queries[i])\n",
    "    \n",
    "data_dict = {\n",
    "    'text' : combined_dataset\n",
    "}\n",
    "\n",
    "train_dataset = Dataset.from_dict(data_dict)\n",
    "\n",
    "train_dataset"
   ]
  },
  {
   "cell_type": "markdown",
   "metadata": {},
   "source": [
    "### Setting Training Args and Training "
   ]
  },
  {
   "cell_type": "code",
   "execution_count": 17,
   "metadata": {},
   "outputs": [],
   "source": [
    "output_dir = os.path.join('output_dir','result')\n",
    "\n",
    "if not os.path.exists(output_dir):\n",
    "    !mkdir {output_dir}"
   ]
  },
  {
   "cell_type": "code",
   "execution_count": 18,
   "metadata": {},
   "outputs": [],
   "source": [
    "# Fine-tuned model name\n",
    "new_model = \"gpt2-finetuned\"\n",
    "\n",
    "################################################################################\n",
    "# QLoRA parameters\n",
    "################################################################################\n",
    "\n",
    "# LoRA attention dimension\n",
    "lora_r = 64\n",
    "\n",
    "# Alpha parameter for LoRA scaling\n",
    "lora_alpha = 16\n",
    "\n",
    "# Dropout probability for LoRA layers\n",
    "lora_dropout = 0.1\n",
    "\n",
    "################################################################################\n",
    "# bitsandbytes parameters\n",
    "################################################################################\n",
    "\n",
    "# # Activate 4-bit precision base model loading\n",
    "# use_4bit = True\n",
    "\n",
    "# # Compute dtype for 4-bit base models\n",
    "# bnb_4bit_compute_dtype = \"float16\"\n",
    "\n",
    "# # Quantization type (fp4 or nf4)\n",
    "# bnb_4bit_quant_type = \"nf4\"\n",
    "\n",
    "# # Activate nested quantization for 4-bit base models (double quantization)\n",
    "# use_nested_quant = False\n",
    "\n",
    "################################################################################\n",
    "# TrainingArguments parameters\n",
    "################################################################################\n",
    "\n",
    "# Output directory where the model predictions and checkpoints will be stored\n",
    "output_dir = output_dir\n",
    "\n",
    "# Number of training epochs\n",
    "num_train_epochs = 1\n",
    "\n",
    "# Enable fp16/bf16 training (set bf16 to True with an A100)\n",
    "fp16 = False\n",
    "bf16 = False\n",
    "\n",
    "# Batch size per GPU for training it is actually for one core \n",
    "per_device_train_batch_size = 4\n",
    "\n",
    "# Batch size per GPU for evaluation\n",
    "per_device_eval_batch_size = 4\n",
    "\n",
    "# Number of update steps to accumulate the gradients for. It specifies number of batches of data it passes trhough before making any updation in weights\n",
    "gradient_accumulation_steps = 1\n",
    "\n",
    "# Enable gradient checkpointing\n",
    "gradient_checkpointing = True\n",
    "\n",
    "# Maximum gradient normal (gradient clipping) avoid gradients getting too small keep them around 0.3\n",
    "max_grad_norm = 0.3\n",
    "\n",
    "# Initial learning rate (AdamW optimizer)\n",
    "learning_rate = 2e-4\n",
    "\n",
    "# Weight decay to apply to all layers except bias/LayerNorm weights\n",
    "weight_decay = 0.001\n",
    "\n",
    "# Optimizer to use\n",
    "optim = \"adamw_torch\"\n",
    "\n",
    "# Learning rate schedule\n",
    "lr_scheduler_type = \"cosine\"\n",
    "\n",
    "# Number of training steps (overrides num_train_epochs)\n",
    "max_steps = -1\n",
    "\n",
    "# Ratio of steps for a linear warmup (from 0 to learning rate)\n",
    "warmup_ratio = 0.03 #Learning Rate Increase: During these 300 warmup steps, \n",
    "#the learning rate increases linearly from 0 to the initial learning rate you specified.\n",
    "\n",
    "# Group sequences into batches with same length\n",
    "# Saves memory and speeds up training considerably\n",
    "group_by_length = True\n",
    "\n",
    "# Save checkpoint every X updates steps\n",
    "save_steps = 0\n",
    "\n",
    "# Log every X updates steps\n",
    "logging_steps = 25\n",
    "\n",
    "################################################################################\n",
    "# SFT parameters\n",
    "################################################################################\n",
    "\n",
    "# Maximum sequence length to use\n",
    "max_seq_length = None\n",
    "\n",
    "# Pack multiple short examples in the same input sequence to increase efficiency\n",
    "packing = False\n",
    "\n",
    "# Load the entire model on the GPU 0\n",
    "device_map = {\"\": 0}"
   ]
  },
  {
   "cell_type": "markdown",
   "metadata": {},
   "source": [
    "PEFT Configuration"
   ]
  },
  {
   "cell_type": "code",
   "execution_count": 19,
   "metadata": {},
   "outputs": [],
   "source": [
    "# Load LoRA configuration\n",
    "peft_config = LoraConfig(\n",
    "    lora_alpha=lora_alpha,\n",
    "    lora_dropout=lora_dropout,\n",
    "    r=lora_r,\n",
    "    bias=\"none\",\n",
    "    task_type=\"CAUSAL_LM\",\n",
    ")"
   ]
  },
  {
   "cell_type": "markdown",
   "metadata": {},
   "source": [
    "Setting Training Parameters"
   ]
  },
  {
   "cell_type": "code",
   "execution_count": 20,
   "metadata": {},
   "outputs": [],
   "source": [
    "training_arguments = TrainingArguments(\n",
    "    output_dir=output_dir,\n",
    "    num_train_epochs=num_train_epochs,\n",
    "    per_device_train_batch_size=per_device_train_batch_size,\n",
    "    gradient_accumulation_steps=gradient_accumulation_steps,\n",
    "    optim=optim,\n",
    "    save_steps=save_steps,\n",
    "    logging_steps=logging_steps,\n",
    "    learning_rate=learning_rate,\n",
    "    weight_decay=weight_decay,\n",
    "    fp16=fp16,\n",
    "    bf16=bf16,\n",
    "    max_grad_norm=max_grad_norm,\n",
    "    max_steps=max_steps,\n",
    "    warmup_ratio=warmup_ratio,\n",
    "    group_by_length=group_by_length,\n",
    "    lr_scheduler_type=lr_scheduler_type,\n",
    "    report_to=\"tensorboard\"\n",
    ")"
   ]
  },
  {
   "cell_type": "markdown",
   "metadata": {},
   "source": [
    "Set SFTTrainer Parameters"
   ]
  },
  {
   "cell_type": "code",
   "execution_count": 22,
   "metadata": {},
   "outputs": [
    {
     "name": "stderr",
     "output_type": "stream",
     "text": [
      "Map: 100%|██████████| 7000/7000 [00:02<00:00, 3225.41 examples/s]\n"
     ]
    }
   ],
   "source": [
    "trainer = SFTTrainer(\n",
    "    model=model,\n",
    "    train_dataset=train_dataset,\n",
    "    peft_config=peft_config,\n",
    "    dataset_text_field=\"text\",\n",
    "    max_seq_length=max_seq_length,\n",
    "    tokenizer=tokenizer,\n",
    "    args=training_arguments,\n",
    "    packing=packing,\n",
    ")"
   ]
  },
  {
   "cell_type": "markdown",
   "metadata": {},
   "source": [
    "Finally train the Model "
   ]
  },
  {
   "cell_type": "code",
   "execution_count": 23,
   "metadata": {},
   "outputs": [
    {
     "name": "stderr",
     "output_type": "stream",
     "text": [
      "  1%|▏         | 25/1750 [01:52<1:19:23,  2.76s/it]"
     ]
    },
    {
     "name": "stdout",
     "output_type": "stream",
     "text": [
      "{'loss': 4.0207, 'grad_norm': 0.22374030947685242, 'learning_rate': 9.433962264150944e-05, 'epoch': 0.01}\n"
     ]
    },
    {
     "name": "stderr",
     "output_type": "stream",
     "text": [
      "  3%|▎         | 50/1750 [02:36<37:47,  1.33s/it]  "
     ]
    },
    {
     "name": "stdout",
     "output_type": "stream",
     "text": [
      "{'loss': 5.2678, 'grad_norm': 0.4831840693950653, 'learning_rate': 0.00018867924528301889, 'epoch': 0.03}\n"
     ]
    },
    {
     "name": "stderr",
     "output_type": "stream",
     "text": [
      "  4%|▍         | 75/1750 [04:22<1:18:46,  2.82s/it]"
     ]
    },
    {
     "name": "stdout",
     "output_type": "stream",
     "text": [
      "{'loss': 3.3648, 'grad_norm': 0.47675544023513794, 'learning_rate': 0.00019991707387086134, 'epoch': 0.04}\n"
     ]
    },
    {
     "name": "stderr",
     "output_type": "stream",
     "text": [
      "  6%|▌         | 100/1750 [05:10<40:19,  1.47s/it] "
     ]
    },
    {
     "name": "stdout",
     "output_type": "stream",
     "text": [
      "{'loss': 3.7447, 'grad_norm': 0.9174173474311829, 'learning_rate': 0.00019962170746297674, 'epoch': 0.06}\n"
     ]
    },
    {
     "name": "stderr",
     "output_type": "stream",
     "text": [
      "  7%|▋         | 125/1750 [07:56<1:25:53,  3.17s/it]"
     ]
    },
    {
     "name": "stdout",
     "output_type": "stream",
     "text": [
      "{'loss': 2.6655, 'grad_norm': 0.7559001445770264, 'learning_rate': 0.00019911299110932996, 'epoch': 0.07}\n"
     ]
    },
    {
     "name": "stderr",
     "output_type": "stream",
     "text": [
      "  9%|▊         | 150/1750 [08:47<40:59,  1.54s/it]  "
     ]
    },
    {
     "name": "stdout",
     "output_type": "stream",
     "text": [
      "{'loss': 2.478, 'grad_norm': 0.8560734391212463, 'learning_rate': 0.00019839201427735947, 'epoch': 0.09}\n"
     ]
    },
    {
     "name": "stderr",
     "output_type": "stream",
     "text": [
      " 10%|█         | 175/1750 [10:38<1:22:27,  3.14s/it]"
     ]
    },
    {
     "name": "stdout",
     "output_type": "stream",
     "text": [
      "{'loss': 2.2215, 'grad_norm': 0.7384971976280212, 'learning_rate': 0.00019746032101175117, 'epoch': 0.1}\n"
     ]
    },
    {
     "name": "stderr",
     "output_type": "stream",
     "text": [
      " 11%|█▏        | 200/1750 [11:27<35:37,  1.38s/it]  "
     ]
    },
    {
     "name": "stdout",
     "output_type": "stream",
     "text": [
      "{'loss': 2.2331, 'grad_norm': 0.7456067204475403, 'learning_rate': 0.0001963199066277103, 'epoch': 0.11}\n"
     ]
    },
    {
     "name": "stderr",
     "output_type": "stream",
     "text": [
      " 13%|█▎        | 225/1750 [13:10<1:11:13,  2.80s/it]"
     ]
    },
    {
     "name": "stdout",
     "output_type": "stream",
     "text": [
      "{'loss': 2.0227, 'grad_norm': 0.6637065410614014, 'learning_rate': 0.00019497321343779292, 'epoch': 0.13}\n"
     ]
    },
    {
     "name": "stderr",
     "output_type": "stream",
     "text": [
      " 14%|█▍        | 250/1750 [13:56<37:05,  1.48s/it]  "
     ]
    },
    {
     "name": "stdout",
     "output_type": "stream",
     "text": [
      "{'loss': 2.1753, 'grad_norm': 1.0249590873718262, 'learning_rate': 0.00019342312552144656, 'epoch': 0.14}\n"
     ]
    },
    {
     "name": "stderr",
     "output_type": "stream",
     "text": [
      " 16%|█▌        | 275/1750 [15:57<58:17,  2.37s/it]  "
     ]
    },
    {
     "name": "stdout",
     "output_type": "stream",
     "text": [
      "{'loss': 1.9577, 'grad_norm': 0.6540383100509644, 'learning_rate': 0.00019167296254846304, 'epoch': 0.16}\n"
     ]
    },
    {
     "name": "stderr",
     "output_type": "stream",
     "text": [
      " 17%|█▋        | 300/1750 [16:35<30:51,  1.28s/it]"
     ]
    },
    {
     "name": "stdout",
     "output_type": "stream",
     "text": [
      "{'loss': 2.0152, 'grad_norm': 0.6986164450645447, 'learning_rate': 0.00018972647266957056, 'epoch': 0.17}\n"
     ]
    },
    {
     "name": "stderr",
     "output_type": "stream",
     "text": [
      " 19%|█▊        | 325/1750 [17:55<49:24,  2.08s/it]  "
     ]
    },
    {
     "name": "stdout",
     "output_type": "stream",
     "text": [
      "{'loss': 1.8757, 'grad_norm': 0.7253809571266174, 'learning_rate': 0.00018758782448939014, 'epoch': 0.19}\n"
     ]
    },
    {
     "name": "stderr",
     "output_type": "stream",
     "text": [
      " 20%|██        | 350/1750 [18:31<24:06,  1.03s/it]"
     ]
    },
    {
     "name": "stdout",
     "output_type": "stream",
     "text": [
      "{'loss': 1.971, 'grad_norm': 0.7754111289978027, 'learning_rate': 0.00018526159813894805, 'epoch': 0.2}\n"
     ]
    },
    {
     "name": "stderr",
     "output_type": "stream",
     "text": [
      " 21%|██▏       | 375/1750 [19:55<50:06,  2.19s/it]  "
     ]
    },
    {
     "name": "stdout",
     "output_type": "stream",
     "text": [
      "{'loss': 1.7872, 'grad_norm': 0.7909363508224487, 'learning_rate': 0.00018275277546686284, 'epoch': 0.21}\n"
     ]
    },
    {
     "name": "stderr",
     "output_type": "stream",
     "text": [
      " 23%|██▎       | 400/1750 [20:32<23:38,  1.05s/it]"
     ]
    },
    {
     "name": "stdout",
     "output_type": "stream",
     "text": [
      "{'loss': 2.0357, 'grad_norm': 0.6296688914299011, 'learning_rate': 0.00018006672937021336, 'epoch': 0.23}\n"
     ]
    },
    {
     "name": "stderr",
     "output_type": "stream",
     "text": [
      " 24%|██▍       | 425/1750 [22:01<1:07:22,  3.05s/it]"
     ]
    },
    {
     "name": "stdout",
     "output_type": "stream",
     "text": [
      "{'loss': 1.751, 'grad_norm': 0.6699853539466858, 'learning_rate': 0.0001772092122879371, 'epoch': 0.24}\n"
     ]
    },
    {
     "name": "stderr",
     "output_type": "stream",
     "text": [
      " 26%|██▌       | 450/1750 [22:48<28:10,  1.30s/it]  "
     ]
    },
    {
     "name": "stdout",
     "output_type": "stream",
     "text": [
      "{'loss': 1.9842, 'grad_norm': 0.6629898548126221, 'learning_rate': 0.00017418634388140155, 'epoch': 0.26}\n"
     ]
    },
    {
     "name": "stderr",
     "output_type": "stream",
     "text": [
      " 27%|██▋       | 475/1750 [24:16<50:54,  2.40s/it]  "
     ]
    },
    {
     "name": "stdout",
     "output_type": "stream",
     "text": [
      "{'loss': 1.8801, 'grad_norm': 0.7846428751945496, 'learning_rate': 0.00017100459792853125, 'epoch': 0.27}\n"
     ]
    },
    {
     "name": "stderr",
     "output_type": "stream",
     "text": [
      " 29%|██▊       | 500/1750 [25:02<27:46,  1.33s/it]"
     ]
    },
    {
     "name": "stdout",
     "output_type": "stream",
     "text": [
      "{'loss': 1.931, 'grad_norm': 0.7505471110343933, 'learning_rate': 0.00016767078845955876, 'epoch': 0.29}\n"
     ]
    },
    {
     "name": "stderr",
     "output_type": "stream",
     "text": [
      " 30%|███       | 525/1750 [26:26<38:25,  1.88s/it]  "
     ]
    },
    {
     "name": "stdout",
     "output_type": "stream",
     "text": [
      "{'loss': 1.7414, 'grad_norm': 1.0555543899536133, 'learning_rate': 0.00016419205516409092, 'epoch': 0.3}\n"
     ]
    },
    {
     "name": "stderr",
     "output_type": "stream",
     "text": [
      " 31%|███▏      | 550/1750 [27:03<25:54,  1.30s/it]"
     ]
    },
    {
     "name": "stdout",
     "output_type": "stream",
     "text": [
      "{'loss': 1.8305, 'grad_norm': 0.9295557141304016, 'learning_rate': 0.0001605758481007426, 'epoch': 0.31}\n"
     ]
    },
    {
     "name": "stderr",
     "output_type": "stream",
     "text": [
      " 33%|███▎      | 575/1750 [28:37<45:24,  2.32s/it]  "
     ]
    },
    {
     "name": "stdout",
     "output_type": "stream",
     "text": [
      "{'loss': 1.6446, 'grad_norm': 0.6735183000564575, 'learning_rate': 0.00015682991174208378, 'epoch': 0.33}\n"
     ]
    },
    {
     "name": "stderr",
     "output_type": "stream",
     "text": [
      " 34%|███▍      | 600/1750 [29:14<21:46,  1.14s/it]"
     ]
    },
    {
     "name": "stdout",
     "output_type": "stream",
     "text": [
      "{'loss': 1.8074, 'grad_norm': 0.7256276607513428, 'learning_rate': 0.00015296226838906982, 'epoch': 0.34}\n"
     ]
    },
    {
     "name": "stderr",
     "output_type": "stream",
     "text": [
      " 36%|███▌      | 625/1750 [30:39<39:56,  2.13s/it]  "
     ]
    },
    {
     "name": "stdout",
     "output_type": "stream",
     "text": [
      "{'loss': 1.7662, 'grad_norm': 0.8286963701248169, 'learning_rate': 0.0001489812009904737, 'epoch': 0.36}\n"
     ]
    },
    {
     "name": "stderr",
     "output_type": "stream",
     "text": [
      " 37%|███▋      | 650/1750 [31:17<25:42,  1.40s/it]"
     ]
    },
    {
     "name": "stdout",
     "output_type": "stream",
     "text": [
      "{'loss': 1.8301, 'grad_norm': 0.7824448943138123, 'learning_rate': 0.0001448952354041149, 'epoch': 0.37}\n"
     ]
    },
    {
     "name": "stderr",
     "output_type": "stream",
     "text": [
      " 39%|███▊      | 675/1750 [33:02<42:10,  2.35s/it]  "
     ]
    },
    {
     "name": "stdout",
     "output_type": "stream",
     "text": [
      "{'loss': 1.6009, 'grad_norm': 0.9996713399887085, 'learning_rate': 0.0001407131221378741, 'epoch': 0.39}\n"
     ]
    },
    {
     "name": "stderr",
     "output_type": "stream",
     "text": [
      " 40%|████      | 700/1750 [33:40<25:25,  1.45s/it]"
     ]
    },
    {
     "name": "stdout",
     "output_type": "stream",
     "text": [
      "{'loss': 1.8855, 'grad_norm': 0.7643595337867737, 'learning_rate': 0.00013644381760959681, 'epoch': 0.4}\n"
     ]
    },
    {
     "name": "stderr",
     "output_type": "stream",
     "text": [
      " 41%|████▏     | 725/1750 [35:03<34:16,  2.01s/it]  "
     ]
    },
    {
     "name": "stdout",
     "output_type": "stream",
     "text": [
      "{'loss': 1.6886, 'grad_norm': 0.6715048551559448, 'learning_rate': 0.0001320964649660203, 'epoch': 0.41}\n"
     ]
    },
    {
     "name": "stderr",
     "output_type": "stream",
     "text": [
      " 43%|████▎     | 750/1750 [35:38<16:31,  1.01it/s]"
     ]
    },
    {
     "name": "stdout",
     "output_type": "stream",
     "text": [
      "{'loss': 1.8359, 'grad_norm': 0.7090941071510315, 'learning_rate': 0.00012768037450180156, 'epoch': 0.43}\n"
     ]
    },
    {
     "name": "stderr",
     "output_type": "stream",
     "text": [
      " 44%|████▍     | 775/1750 [36:57<37:04,  2.28s/it]  "
     ]
    },
    {
     "name": "stdout",
     "output_type": "stream",
     "text": [
      "{'loss': 1.6643, 'grad_norm': 0.8043550848960876, 'learning_rate': 0.0001232050037205813, 'epoch': 0.44}\n"
     ]
    },
    {
     "name": "stderr",
     "output_type": "stream",
     "text": [
      " 46%|████▌     | 800/1750 [37:40<18:55,  1.19s/it]"
     ]
    },
    {
     "name": "stdout",
     "output_type": "stream",
     "text": [
      "{'loss': 1.7634, 'grad_norm': 0.7527002096176147, 'learning_rate': 0.00011867993708078484, 'epoch': 0.46}\n"
     ]
    },
    {
     "name": "stderr",
     "output_type": "stream",
     "text": [
      " 47%|████▋     | 825/1750 [39:03<32:32,  2.11s/it]  "
     ]
    },
    {
     "name": "stdout",
     "output_type": "stream",
     "text": [
      "{'loss': 1.6684, 'grad_norm': 0.5631463527679443, 'learning_rate': 0.00011411486546953671, 'epoch': 0.47}\n"
     ]
    },
    {
     "name": "stderr",
     "output_type": "stream",
     "text": [
      " 49%|████▊     | 850/1750 [39:45<20:36,  1.37s/it]"
     ]
    },
    {
     "name": "stdout",
     "output_type": "stream",
     "text": [
      "{'loss': 1.8036, 'grad_norm': 0.6771289110183716, 'learning_rate': 0.00010951956544864714, 'epoch': 0.49}\n"
     ]
    },
    {
     "name": "stderr",
     "output_type": "stream",
     "text": [
      " 50%|█████     | 875/1750 [41:09<31:44,  2.18s/it]  "
     ]
    },
    {
     "name": "stdout",
     "output_type": "stream",
     "text": [
      "{'loss': 1.6047, 'grad_norm': 0.55216383934021, 'learning_rate': 0.00010490387831711799, 'epoch': 0.5}\n"
     ]
    },
    {
     "name": "stderr",
     "output_type": "stream",
     "text": [
      " 51%|█████▏    | 900/1750 [41:49<16:33,  1.17s/it]"
     ]
    },
    {
     "name": "stdout",
     "output_type": "stream",
     "text": [
      "{'loss': 1.7913, 'grad_norm': 0.6991512775421143, 'learning_rate': 0.00010027768903500721, 'epoch': 0.51}\n"
     ]
    },
    {
     "name": "stderr",
     "output_type": "stream",
     "text": [
      " 53%|█████▎    | 925/1750 [43:22<34:20,  2.50s/it]  "
     ]
    },
    {
     "name": "stdout",
     "output_type": "stream",
     "text": [
      "{'loss': 1.5157, 'grad_norm': 0.7425747513771057, 'learning_rate': 9.565090505378846e-05, 'epoch': 0.53}\n"
     ]
    },
    {
     "name": "stderr",
     "output_type": "stream",
     "text": [
      " 54%|█████▍    | 950/1750 [44:05<17:19,  1.30s/it]"
     ]
    },
    {
     "name": "stdout",
     "output_type": "stream",
     "text": [
      "{'loss': 1.8162, 'grad_norm': 0.5634466409683228, 'learning_rate': 9.103343509854379e-05, 'epoch': 0.54}\n"
     ]
    },
    {
     "name": "stderr",
     "output_type": "stream",
     "text": [
      " 56%|█████▌    | 975/1750 [45:48<36:24,  2.82s/it]  "
     ]
    },
    {
     "name": "stdout",
     "output_type": "stream",
     "text": [
      "{'loss': 1.4535, 'grad_norm': 0.6990063190460205, 'learning_rate': 8.643516794742801e-05, 'epoch': 0.56}\n"
     ]
    },
    {
     "name": "stderr",
     "output_type": "stream",
     "text": [
      " 57%|█████▋    | 1000/1750 [46:33<15:41,  1.26s/it]"
     ]
    },
    {
     "name": "stdout",
     "output_type": "stream",
     "text": [
      "{'loss': 1.8203, 'grad_norm': 0.5855689644813538, 'learning_rate': 8.186595125385198e-05, 'epoch': 0.57}\n"
     ]
    },
    {
     "name": "stderr",
     "output_type": "stream",
     "text": [
      " 59%|█████▊    | 1025/1750 [48:11<29:16,  2.42s/it]  "
     ]
    },
    {
     "name": "stdout",
     "output_type": "stream",
     "text": [
      "{'loss': 1.5667, 'grad_norm': 0.6581661105155945, 'learning_rate': 7.733557045673834e-05, 'epoch': 0.59}\n"
     ]
    },
    {
     "name": "stderr",
     "output_type": "stream",
     "text": [
      " 60%|██████    | 1050/1750 [48:57<16:38,  1.43s/it]"
     ]
    },
    {
     "name": "stdout",
     "output_type": "stream",
     "text": [
      "{'loss': 1.781, 'grad_norm': 0.66665118932724, 'learning_rate': 7.285372782401609e-05, 'epoch': 0.6}\n"
     ]
    },
    {
     "name": "stderr",
     "output_type": "stream",
     "text": [
      " 61%|██████▏   | 1075/1750 [51:41<36:46,  3.27s/it]  "
     ]
    },
    {
     "name": "stdout",
     "output_type": "stream",
     "text": [
      "{'loss': 1.5015, 'grad_norm': 0.7633824348449707, 'learning_rate': 6.843002167423403e-05, 'epoch': 0.61}\n"
     ]
    },
    {
     "name": "stderr",
     "output_type": "stream",
     "text": [
      " 63%|██████▎   | 1100/1750 [52:31<15:49,  1.46s/it]"
     ]
    },
    {
     "name": "stdout",
     "output_type": "stream",
     "text": [
      "{'loss': 1.7262, 'grad_norm': 0.8495567440986633, 'learning_rate': 6.407392582079247e-05, 'epoch': 0.63}\n"
     ]
    },
    {
     "name": "stderr",
     "output_type": "stream",
     "text": [
      " 64%|██████▍   | 1125/1750 [54:11<28:51,  2.77s/it]"
     ]
    },
    {
     "name": "stdout",
     "output_type": "stream",
     "text": [
      "{'loss': 1.5094, 'grad_norm': 0.7657716870307922, 'learning_rate': 5.97947692828152e-05, 'epoch': 0.64}\n"
     ]
    },
    {
     "name": "stderr",
     "output_type": "stream",
     "text": [
      " 66%|██████▌   | 1150/1750 [54:57<12:49,  1.28s/it]"
     ]
    },
    {
     "name": "stdout",
     "output_type": "stream",
     "text": [
      "{'loss': 1.7443, 'grad_norm': 0.6413022875785828, 'learning_rate': 5.560171630611303e-05, 'epoch': 0.66}\n"
     ]
    },
    {
     "name": "stderr",
     "output_type": "stream",
     "text": [
      " 67%|██████▋   | 1175/1750 [57:16<44:20,  4.63s/it]  "
     ]
    },
    {
     "name": "stdout",
     "output_type": "stream",
     "text": [
      "{'loss': 1.5792, 'grad_norm': 0.775474488735199, 'learning_rate': 5.150374673702607e-05, 'epoch': 0.67}\n"
     ]
    },
    {
     "name": "stderr",
     "output_type": "stream",
     "text": [
      " 69%|██████▊   | 1200/1750 [58:32<21:33,  2.35s/it]"
     ]
    },
    {
     "name": "stdout",
     "output_type": "stream",
     "text": [
      "{'loss': 1.6926, 'grad_norm': 1.075724720954895, 'learning_rate': 4.7509636791176114e-05, 'epoch': 0.69}\n"
     ]
    },
    {
     "name": "stderr",
     "output_type": "stream",
     "text": [
      " 70%|███████   | 1225/1750 [1:01:06<34:07,  3.90s/it]  "
     ]
    },
    {
     "name": "stdout",
     "output_type": "stream",
     "text": [
      "{'loss': 1.5588, 'grad_norm': 0.619439423084259, 'learning_rate': 4.36279402583145e-05, 'epoch': 0.7}\n"
     ]
    },
    {
     "name": "stderr",
     "output_type": "stream",
     "text": [
      " 71%|███████▏  | 1250/1750 [1:02:26<22:44,  2.73s/it]"
     ]
    },
    {
     "name": "stdout",
     "output_type": "stream",
     "text": [
      "{'loss': 1.6515, 'grad_norm': 0.6610722541809082, 'learning_rate': 3.9866970183517915e-05, 'epoch': 0.71}\n"
     ]
    },
    {
     "name": "stderr",
     "output_type": "stream",
     "text": [
      " 73%|███████▎  | 1275/1750 [1:04:48<28:53,  3.65s/it]  "
     ]
    },
    {
     "name": "stdout",
     "output_type": "stream",
     "text": [
      "{'loss': 1.5109, 'grad_norm': 0.672667384147644, 'learning_rate': 3.623478106396281e-05, 'epoch': 0.73}\n"
     ]
    },
    {
     "name": "stderr",
     "output_type": "stream",
     "text": [
      " 74%|███████▍  | 1300/1750 [1:05:45<12:35,  1.68s/it]"
     ]
    },
    {
     "name": "stdout",
     "output_type": "stream",
     "text": [
      "{'loss': 1.7703, 'grad_norm': 0.7322072982788086, 'learning_rate': 3.273915159940636e-05, 'epoch': 0.74}\n"
     ]
    },
    {
     "name": "stderr",
     "output_type": "stream",
     "text": [
      " 76%|███████▌  | 1325/1750 [1:08:06<28:31,  4.03s/it]"
     ]
    },
    {
     "name": "stdout",
     "output_type": "stream",
     "text": [
      "{'loss': 1.5381, 'grad_norm': 0.7369043231010437, 'learning_rate': 2.938756803331556e-05, 'epoch': 0.76}\n"
     ]
    },
    {
     "name": "stderr",
     "output_type": "stream",
     "text": [
      " 77%|███████▋  | 1350/1750 [1:08:54<09:52,  1.48s/it]"
     ]
    },
    {
     "name": "stdout",
     "output_type": "stream",
     "text": [
      "{'loss': 1.7001, 'grad_norm': 0.5890224575996399, 'learning_rate': 2.6187208120320994e-05, 'epoch': 0.77}\n"
     ]
    },
    {
     "name": "stderr",
     "output_type": "stream",
     "text": [
      " 79%|███████▊  | 1375/1750 [1:10:27<15:06,  2.42s/it]"
     ]
    },
    {
     "name": "stdout",
     "output_type": "stream",
     "text": [
      "{'loss': 1.5607, 'grad_norm': 0.7262037992477417, 'learning_rate': 2.3144925754330315e-05, 'epoch': 0.79}\n"
     ]
    },
    {
     "name": "stderr",
     "output_type": "stream",
     "text": [
      " 80%|████████  | 1400/1750 [1:11:07<06:58,  1.20s/it]"
     ]
    },
    {
     "name": "stdout",
     "output_type": "stream",
     "text": [
      "{'loss': 1.7063, 'grad_norm': 0.6498270630836487, 'learning_rate': 2.0267236290222602e-05, 'epoch': 0.8}\n"
     ]
    },
    {
     "name": "stderr",
     "output_type": "stream",
     "text": [
      " 81%|████████▏ | 1425/1750 [1:12:43<13:01,  2.41s/it]"
     ]
    },
    {
     "name": "stdout",
     "output_type": "stream",
     "text": [
      "{'loss': 1.5465, 'grad_norm': 0.6575759053230286, 'learning_rate': 1.7560302590557897e-05, 'epoch': 0.81}\n"
     ]
    },
    {
     "name": "stderr",
     "output_type": "stream",
     "text": [
      " 83%|████████▎ | 1450/1750 [1:13:25<06:25,  1.29s/it]"
     ]
    },
    {
     "name": "stdout",
     "output_type": "stream",
     "text": [
      "{'loss': 1.7477, 'grad_norm': 0.6327821612358093, 'learning_rate': 1.5029921827184657e-05, 'epoch': 0.83}\n"
     ]
    },
    {
     "name": "stderr",
     "output_type": "stream",
     "text": [
      " 84%|████████▍ | 1475/1750 [1:16:35<29:58,  6.54s/it]"
     ]
    },
    {
     "name": "stdout",
     "output_type": "stream",
     "text": [
      "{'loss': 1.5137, 'grad_norm': 0.7579715847969055, 'learning_rate': 1.2681513066011052e-05, 'epoch': 0.84}\n"
     ]
    },
    {
     "name": "stderr",
     "output_type": "stream",
     "text": [
      " 86%|████████▌ | 1500/1750 [1:18:25<15:26,  3.70s/it]"
     ]
    },
    {
     "name": "stdout",
     "output_type": "stream",
     "text": [
      "{'loss': 1.6937, 'grad_norm': 0.5863778591156006, 'learning_rate': 1.0520105661528068e-05, 'epoch': 0.86}\n"
     ]
    },
    {
     "name": "stderr",
     "output_type": "stream",
     "text": [
      " 87%|████████▋ | 1525/1750 [1:22:22<26:16,  7.01s/it]"
     ]
    },
    {
     "name": "stdout",
     "output_type": "stream",
     "text": [
      "{'loss': 1.5631, 'grad_norm': 0.69269198179245, 'learning_rate': 8.550328485938885e-06, 'epoch': 0.87}\n"
     ]
    },
    {
     "name": "stderr",
     "output_type": "stream",
     "text": [
      " 89%|████████▊ | 1550/1750 [1:23:54<05:00,  1.50s/it]"
     ]
    },
    {
     "name": "stdout",
     "output_type": "stream",
     "text": [
      "{'loss': 1.6313, 'grad_norm': 0.9105098247528076, 'learning_rate': 6.776400015961881e-06, 'epoch': 0.89}\n"
     ]
    },
    {
     "name": "stderr",
     "output_type": "stream",
     "text": [
      " 90%|█████████ | 1575/1750 [1:26:00<09:39,  3.31s/it]"
     ]
    },
    {
     "name": "stdout",
     "output_type": "stream",
     "text": [
      "{'loss': 1.507, 'grad_norm': 0.7381285429000854, 'learning_rate': 5.2021192985367004e-06, 'epoch': 0.9}\n"
     ]
    },
    {
     "name": "stderr",
     "output_type": "stream",
     "text": [
      " 91%|█████████▏| 1600/1750 [1:26:37<02:40,  1.07s/it]"
     ]
    },
    {
     "name": "stdout",
     "output_type": "stream",
     "text": [
      "{'loss': 1.6852, 'grad_norm': 0.5619350671768188, 'learning_rate': 3.83085781478153e-06, 'epoch': 0.91}\n"
     ]
    },
    {
     "name": "stderr",
     "output_type": "stream",
     "text": [
      " 93%|█████████▎| 1625/1750 [1:28:11<05:41,  2.73s/it]"
     ]
    },
    {
     "name": "stdout",
     "output_type": "stream",
     "text": [
      "{'loss': 1.4822, 'grad_norm': 0.6332618594169617, 'learning_rate': 2.6655522596259917e-06, 'epoch': 0.93}\n"
     ]
    },
    {
     "name": "stderr",
     "output_type": "stream",
     "text": [
      " 94%|█████████▍| 1650/1750 [1:28:52<01:57,  1.17s/it]"
     ]
    },
    {
     "name": "stdout",
     "output_type": "stream",
     "text": [
      "{'loss': 1.6795, 'grad_norm': 0.7520769834518433, 'learning_rate': 1.7086982525823636e-06, 'epoch': 0.94}\n"
     ]
    },
    {
     "name": "stderr",
     "output_type": "stream",
     "text": [
      " 96%|█████████▌| 1675/1750 [1:30:11<02:41,  2.16s/it]"
     ]
    },
    {
     "name": "stdout",
     "output_type": "stream",
     "text": [
      "{'loss': 1.5019, 'grad_norm': 0.670472264289856, 'learning_rate': 9.623449931243422e-07, 'epoch': 0.96}\n"
     ]
    },
    {
     "name": "stderr",
     "output_type": "stream",
     "text": [
      " 97%|█████████▋| 1700/1750 [1:30:53<01:02,  1.25s/it]"
     ]
    },
    {
     "name": "stdout",
     "output_type": "stream",
     "text": [
      "{'loss': 1.6006, 'grad_norm': 0.5461862683296204, 'learning_rate': 4.280908721195465e-07, 'epoch': 0.97}\n"
     ]
    },
    {
     "name": "stderr",
     "output_type": "stream",
     "text": [
      " 99%|█████████▊| 1725/1750 [1:32:54<01:28,  3.56s/it]"
     ]
    },
    {
     "name": "stdout",
     "output_type": "stream",
     "text": [
      "{'loss': 1.4839, 'grad_norm': 0.6651113629341125, 'learning_rate': 1.0708004871404775e-07, 'epoch': 0.99}\n"
     ]
    },
    {
     "name": "stderr",
     "output_type": "stream",
     "text": [
      "100%|██████████| 1750/1750 [1:33:41<00:00,  1.16s/it]"
     ]
    },
    {
     "name": "stdout",
     "output_type": "stream",
     "text": [
      "{'loss': 1.7142, 'grad_norm': 0.576436460018158, 'learning_rate': 0.0, 'epoch': 1.0}\n"
     ]
    },
    {
     "name": "stderr",
     "output_type": "stream",
     "text": [
      "100%|██████████| 1750/1750 [1:33:41<00:00,  3.21s/it]"
     ]
    },
    {
     "name": "stdout",
     "output_type": "stream",
     "text": [
      "{'train_runtime': 5621.5117, 'train_samples_per_second': 1.245, 'train_steps_per_second': 0.311, 'train_loss': 1.8909064331054688, 'epoch': 1.0}\n"
     ]
    },
    {
     "name": "stderr",
     "output_type": "stream",
     "text": [
      "\n"
     ]
    },
    {
     "data": {
      "text/plain": [
       "TrainOutput(global_step=1750, training_loss=1.8909064331054688, metrics={'train_runtime': 5621.5117, 'train_samples_per_second': 1.245, 'train_steps_per_second': 0.311, 'total_flos': 235513591160832.0, 'train_loss': 1.8909064331054688, 'epoch': 1.0})"
      ]
     },
     "execution_count": 23,
     "metadata": {},
     "output_type": "execute_result"
    }
   ],
   "source": [
    "trainer.train()"
   ]
  },
  {
   "cell_type": "code",
   "execution_count": 24,
   "metadata": {},
   "outputs": [],
   "source": [
    "trainer.model.save_pretrained(new_model)"
   ]
  },
  {
   "cell_type": "markdown",
   "metadata": {},
   "source": [
    "Merge Finetune and base Model"
   ]
  },
  {
   "cell_type": "code",
   "execution_count": 29,
   "metadata": {},
   "outputs": [],
   "source": [
    "from peft import PeftModel\n",
    "\n",
    "base_model = AutoModelForCausalLM.from_pretrained(path_to_model)\n",
    "\n",
    "model2 = PeftModel.from_pretrained(base_model, new_model)\n",
    "model2 = model2.merge_and_unload()\n",
    "\n",
    "# Reload tokenizer to save it\n",
    "tokenizer2 = AutoTokenizer.from_pretrained(path_to_model)\n",
    "tokenizer2.pad_token = tokenizer.eos_token"
   ]
  },
  {
   "cell_type": "code",
   "execution_count": 39,
   "metadata": {},
   "outputs": [],
   "source": [
    "pipe = pipeline(\"text-generation\", model=model2,tokenizer=tokenizer2)"
   ]
  },
  {
   "cell_type": "code",
   "execution_count": 55,
   "metadata": {},
   "outputs": [
    {
     "name": "stdout",
     "output_type": "stream",
     "text": [
      "[{'generated_text': 'text: What are the maximum and minimum budget of the departments? ### Geneated_sql_code:  SELECT MAX(MAX(MIN(WHEN FULL))  >  MAX(WHEN FULL ) ) FROM departments ORDER BY Min('}]\n"
     ]
    }
   ],
   "source": [
    "prompt = \"text: What are the names of the states where at least 3 heads were born? \"\n",
    "output = pipe(prompt)\n",
    "\n",
    "# Print the generated output\n",
    "print(output)"
   ]
  },
  {
   "cell_type": "markdown",
   "metadata": {},
   "source": [
    "Push Model to Hugging face"
   ]
  },
  {
   "cell_type": "code",
   "execution_count": 31,
   "metadata": {},
   "outputs": [],
   "source": [
    "import locale\n",
    "locale.getpreferredencoding = lambda: \"UTF-8\""
   ]
  },
  {
   "cell_type": "code",
   "execution_count": 32,
   "metadata": {},
   "outputs": [],
   "source": [
    "tokenizer2 = AutoTokenizer.from_pretrained(path_to_model)\n",
    "model2 = AutoModelForCausalLM.from_pretrained(path_to_model)"
   ]
  },
  {
   "cell_type": "code",
   "execution_count": 50,
   "metadata": {},
   "outputs": [
    {
     "data": {
      "text/plain": [
       "['How many heads of the departments are older than 56 ?',\n",
       " 'List the name, born state and age of the heads of departments ordered by age.',\n",
       " 'List the creation year, name and budget of each department.',\n",
       " 'What are the maximum and minimum budget of the departments?',\n",
       " 'What is the average number of employees of the departments whose rank is between 10 and 15?',\n",
       " 'What are the names of the heads who are born outside the California state?',\n",
       " \"What are the distinct creation years of the departments managed by a secretary born in state 'Alabama'?\",\n",
       " 'What are the names of the states where at least 3 heads were born?',\n",
       " 'In which year were most departments established?',\n",
       " \"Show the name and number of employees for the departments managed by heads whose temporary acting value is 'Yes'?\",\n",
       " 'How many acting statuses are there?',\n",
       " 'How many departments are led by heads who are not mentioned?',\n",
       " 'What are the distinct ages of the heads who are acting?',\n",
       " \"List the states where both the secretary of 'Treasury' department and the secretary of 'Homeland Security' were born.\",\n",
       " 'Which department has more than 1 head at a time? List the id, name and the number of heads.',\n",
       " \"Which head's name has the substring 'Ha'? List the id and name.\",\n",
       " 'How many farms are there?',\n",
       " 'Count the number of farms.',\n",
       " 'List the total number of horses on farms in ascending order.',\n",
       " 'What is the total horses record for each farm, sorted ascending?',\n",
       " 'What are the hosts of competitions whose theme is not \"Aliens\"?',\n",
       " 'Return the hosts of competitions for which the theme is not Aliens?',\n",
       " 'What are the themes of farm competitions sorted by year in ascending order?',\n",
       " 'Return the themes of farm competitions, sorted by year ascending.',\n",
       " 'What is the average number of working horses of farms with more than 5000 total number of horses?',\n",
       " 'Give the average number of working horses on farms with more than 5000 total horses.',\n",
       " 'What are the maximum and minimum number of cows across all farms.',\n",
       " 'Return the maximum and minimum number of cows across all farms.',\n",
       " 'How many different statuses do cities have?',\n",
       " 'Count the number of different statuses.',\n",
       " 'List official names of cities in descending order of population.',\n",
       " 'What are the official names of cities, ordered descending by population?',\n",
       " 'List the official name and status of the city with the largest population.',\n",
       " 'What is the official name and status of the city with the most residents?',\n",
       " 'Show the years and the official names of the host cities of competitions.',\n",
       " 'Give the years and official names of the cities of each competition.',\n",
       " 'Show the official names of the cities that have hosted more than one competition.',\n",
       " 'What are the official names of cities that have hosted more than one competition?',\n",
       " 'Show the status of the city that has hosted the greatest number of competitions.',\n",
       " 'What is the status of the city that has hosted the most competitions?',\n",
       " 'Please show the themes of competitions with host cities having populations larger than 1000.',\n",
       " 'What are the themes of competitions that have corresponding host cities with more than 1000 residents?',\n",
       " 'Please show the different statuses of cities and the average population of cities with each status.',\n",
       " 'What are the statuses and average populations of each city?',\n",
       " 'Please show the different statuses, ordered by the number of cities that have each.',\n",
       " 'Return the different statuses of cities, ascending by frequency.',\n",
       " 'List the most common type of Status across cities.',\n",
       " 'What is the most common status across all cities?',\n",
       " 'List the official names of cities that have not held any competition.',\n",
       " 'What are the official names of cities that have not hosted a farm competition?',\n",
       " 'Show the status shared by cities with population bigger than 1500 and smaller than 500.',\n",
       " 'Which statuses correspond to both cities that have a population over 1500 and cities that have a population lower than 500?',\n",
       " 'Find the official names of cities with population bigger than 1500 or smaller than 500.',\n",
       " 'What are the official names of cities that have population over 1500 or less than 500?',\n",
       " 'Show the census ranking of cities whose status are not \"Village\".',\n",
       " 'What are the census rankings of cities that do not have the status \"Village\"?',\n",
       " 'which course has most number of registered students?',\n",
       " 'What is the name of the course with the most registered students?',\n",
       " 'what is id of students who registered some courses but the least number of courses in these students?',\n",
       " 'What are the ids of the students who registered for some courses but had the least number of courses for all students?',\n",
       " 'what are the first name and last name of all candidates?',\n",
       " 'What are the first and last names of all the candidates?',\n",
       " 'List the id of students who never attends courses?',\n",
       " 'What are the  ids of every student who has never attended a course?',\n",
       " 'List the id of students who attended some courses?',\n",
       " 'What are the ids of all students who have attended at least one course?',\n",
       " 'What are the ids of all students for courses and what are the names of those courses?',\n",
       " 'What is detail of the student who most recently registered course?',\n",
       " 'What details do we have on the students who registered for courses most recently?',\n",
       " 'How many students attend course English?',\n",
       " 'How many students are attending English courses?',\n",
       " 'How many courses do the student whose id is 171 attend?',\n",
       " 'How many courses does the student with id 171 actually attend?',\n",
       " 'Find id of the candidate whose email is stanley.monahan@example.org?',\n",
       " 'What is the id of the candidate whose email is stanley.monahan@example.org?',\n",
       " 'Find id of the candidate who most recently accessed the course?',\n",
       " 'What is the id of the candidate who most recently accessed the course?',\n",
       " 'What is detail of the student who registered the most number of courses?',\n",
       " 'What are the details of the student who registered for the most number of courses?',\n",
       " 'List the id of students who registered some courses and the number of their registered courses?',\n",
       " 'For every student who is registered for some course, how many courses are they registered for?',\n",
       " 'How many registed students do each course have? List course name and the number of their registered students?',\n",
       " 'For each course id, how many students are registered and what are the course names?',\n",
       " 'Find id of candidates whose assessment code is \"Pass\"?',\n",
       " 'What are the ids of the candidates that have an outcome code of Pass?',\n",
       " 'Find the cell mobile number of the candidates whose assessment code is \"Fail\"?',\n",
       " 'What are the cell phone numbers of the candidates that received an assessment code of \"Fail\"?',\n",
       " 'What are the id of students who registered course 301?',\n",
       " 'What are the ids of the students who registered for course 301?',\n",
       " 'What is the id of the student who most recently registered course 301?',\n",
       " 'What are the ids of the students who registered for course 301 most recently?',\n",
       " 'Find distinct cities of addresses of people?',\n",
       " 'What are the different cities where people live?',\n",
       " 'Find distinct cities of address of students?',\n",
       " 'What are the different cities where students live?',\n",
       " 'List the names of courses in alphabetical order?',\n",
       " 'What are the names of the courses in alphabetical order?',\n",
       " 'List the first names of people in alphabetical order?',\n",
       " 'What are the first names of the people in alphabetical order?',\n",
       " 'What are the id of students who registered courses or attended courses?',\n",
       " 'What are the ids of the students who either registered or attended a course?',\n",
       " 'Find the id of courses which are registered or attended by student whose id is 121?',\n",
       " 'What are the ids of the courses that are registered or attended by the student whose id is 121?',\n",
       " 'What are all info of students who registered courses but not attended courses?',\n",
       " 'What are all details of the students who registered but did not attend any course?',\n",
       " 'List the id of students who registered course statistics in the order of registration date.',\n",
       " 'What are the ids of the students who registered course statistics by order of registration date?',\n",
       " 'List the id of students who attended  statistics courses in the order of attendance date.',\n",
       " 'What are the ids of the students who attended courses in the statistics department in order of attendance date.',\n",
       " 'Give me the dates when the max temperature was higher than 85.',\n",
       " 'What are the dates with a maximum temperature higher than 85?',\n",
       " 'What are the names of stations that have latitude lower than 37.5?',\n",
       " 'What are the names of all stations with a latitude smaller than 37.5?',\n",
       " 'For each city, return the highest latitude among its stations.',\n",
       " 'For each city, what is the highest latitude for its stations?',\n",
       " 'Give me the start station and end station for the trips with the three oldest id.',\n",
       " 'What is the station station and end station for the trips with the three smallest ids?',\n",
       " 'What is the average latitude and longitude of stations located in San Jose city?',\n",
       " 'What is the average latitude and longitude in San Jose?',\n",
       " 'What is the id of the trip that has the shortest duration?',\n",
       " 'What is the id of the shortest trip?',\n",
       " 'What is the total and maximum duration of trips with bike id 636?',\n",
       " 'What is the total and maximum duration for all trips with the bike id 636?',\n",
       " 'For each zip code, return the average mean temperature of August there.',\n",
       " \"For each zip code, what is the average mean temperature for all dates that start with '8'?\",\n",
       " 'From the trip record, find the number of unique bikes.',\n",
       " 'How many different bike ids are there?',\n",
       " 'What is the number of distinct cities the stations are located at?',\n",
       " 'How many different cities have these stations?',\n",
       " 'How many stations does Mountain View city has?',\n",
       " 'How many stations are in Mountain View?',\n",
       " 'Return the unique name for stations that have ever had 7 bikes available.',\n",
       " 'What are the different names for each station that has ever had 7 bikes available?',\n",
       " 'Which start station had the most trips starting from August? Give me the name and id of the station.',\n",
       " \"What are the start station's name and id for the one that had the most start trips in August?\",\n",
       " 'Which bike traveled the most often in zip code 94002?',\n",
       " 'What is the id of the bike that traveled the most in 94002?',\n",
       " 'How many days had both mean humidity above 50 and mean visibility above 8?',\n",
       " 'What is the number of days that had an average humity above 50 and an average visibility above 8?',\n",
       " 'What is the latitude, longitude, city of the station from which the shortest trip started?',\n",
       " 'What is the latitude, longitude, and city of the station from which the trip with smallest duration started?',\n",
       " 'What are the ids of stations that are located in San Francisco and have average bike availability above 10.',\n",
       " 'What are the ids of the stations in San Francisco that normally have more than 10 bikes available?',\n",
       " 'What are the names and ids of stations that had more than 14 bikes available on average or were installed in December?',\n",
       " 'What are the names and ids of all stations that have more than 14 bikes available on average or had bikes installed in December?',\n",
       " 'What is the 3 most common cloud cover rates in the region of zip code 94107?',\n",
       " 'What are the 3 most common cloud covers in the zip code of 94107?',\n",
       " 'What is the zip code in which the average mean sea level pressure is the lowest?',\n",
       " 'What is the zip code that has the lowest average mean sea level pressure?',\n",
       " 'What is the average bike availability in stations that are not located in Palo Alto?',\n",
       " 'What is the average bike availablility for stations not in Palo Alto?',\n",
       " 'What is the average longitude of stations that never had bike availability more than 10?',\n",
       " 'What is the mean longitude for all stations that have never had more than 10 bikes available?',\n",
       " 'When and in what zip code did max temperature reach 80?',\n",
       " 'What zip codes have a station with a max temperature greater than or equal to 80 and when did it reach that temperature?',\n",
       " 'Give me ids for all the trip that took place in a zip code area with average mean temperature above 60.',\n",
       " 'For each zip code, find the ids of all trips that have a higher average mean temperature above 60?',\n",
       " 'For each zip code, return how many times max wind speed reached 25?',\n",
       " 'For each zip code, how many times has the maximum wind speed reached 25 mph?',\n",
       " 'On which day and in which zip code was the min dew point lower than any day in zip code 94107?',\n",
       " 'Which days had a minimum dew point smaller than any day in zip code 94107, and in which zip codes were those measurements taken?',\n",
       " \"For each trip, return its ending station's installation date.\",\n",
       " 'What is the installation date for each ending station on all the trips?',\n",
       " 'Which trip started from the station with the largest dock count? Give me the trip id.',\n",
       " 'What is the id of the trip that started from the station with the highest dock count?',\n",
       " 'Count the number of trips that did not end in San Francisco city.',\n",
       " 'How many trips did not end in San Francisco?',\n",
       " 'In zip code 94107, on which day neither Fog nor Rain was not observed?',\n",
       " 'On which day has it neither been foggy nor rained in the zip code of 94107?',\n",
       " 'What are the ids of stations that have latitude above 37.4 and never had bike availability below 7?',\n",
       " 'What are the ids of all stations that have a latitude above 37.4 and have never had less than 7 bikes available?',\n",
       " 'What are names of stations that have average bike availability above 10 and are not located in San Jose city?',\n",
       " 'What are the names of all stations that have more than 10 bikes available and are not located in San Jose?',\n",
       " 'What are the name, latitude, and city of the station with the lowest latitude?',\n",
       " 'What is the name, latitude, and city of the station that is located the furthest South?',\n",
       " 'What are the date, mean temperature and mean humidity for the top 3 days with the largest max gust speeds?',\n",
       " 'What is the date, average temperature and mean humidity for the days with the 3 largest maximum gust speeds?',\n",
       " 'List the name and the number of stations for all the cities that have at least 15 stations.',\n",
       " 'What is the name of every city that has at least 15 stations and how many stations does it have?',\n",
       " 'Find the ids and names of stations from which at least 200 trips started.',\n",
       " 'What are the ids and names of all start stations that were the beginning of at least 200 trips?',\n",
       " 'Find the zip code in which the average mean visibility is lower than 10.',\n",
       " 'For each zip code, select all those that have an average mean visiblity below 10.',\n",
       " \"List all the cities in a decreasing order of each city's stations' highest latitude.\",\n",
       " 'For each city, list their names in decreasing order by their highest station latitude.',\n",
       " 'What are the dates that had the top 5 cloud cover rates? Also tell me the cloud cover rate.',\n",
       " 'What are the dates that have the 5 highest cloud cover rates and what are the rates?',\n",
       " 'What are the ids and durations of the trips with the top 3 durations?',\n",
       " 'What are the ids of the trips that lasted the longest and how long did they last?',\n",
       " 'For each station, return its longitude and the average duration of trips that started from the station.',\n",
       " 'For each start station id, what is its name, longitude and average duration of trips started there?',\n",
       " 'For each station, find its latitude and the minimum duration of trips that ended at the station.',\n",
       " 'For each end station id, what is its name, latitude, and minimum duration for trips ended there?',\n",
       " 'List all the distinct stations from which a trip of duration below 100 started.',\n",
       " 'What are all the different start station names for a trip that lasted less than 100?',\n",
       " 'Find all the zip codes in which the max dew point have never reached 70.',\n",
       " 'What are all the different zip codes that have a maximum dew point that was always below 70?',\n",
       " 'Find the id for the trips that lasted at least as long as the average duration of trips in zip code 94103.',\n",
       " 'What are the ids of all trips that had a duration as long as the average trip duration in the zip code 94103?',\n",
       " 'What are the dates in which the mean sea level pressure was between 30.3 and 31?',\n",
       " 'What are the dates that have an average sea level pressure between 30.3 and 31?',\n",
       " 'Find the day in which the difference between the max temperature and min temperature was the smallest. Also report the difference.',\n",
       " 'What are the days that had the smallest temperature range, and what was that range?',\n",
       " 'What are the id and name of the stations that have ever had more than 12 bikes available?',\n",
       " 'What are the different ids and names of the stations that have had more than 12 bikes available?',\n",
       " 'Give me the zip code where the average mean humidity is below 70 and at least 100 trips took place.',\n",
       " 'What are the zip codes that have an average mean humidity below 70 and had at least 100 trips come through there?',\n",
       " 'What are the names of stations that are located in Palo Alto city but have never been the ending point of trips more than 100 times?',\n",
       " 'What are the names of the stations that are located in Palo Alto but have never been the ending point of the trips',\n",
       " 'How many trips started from Mountain View city and ended at Palo Alto city?',\n",
       " 'How many trips stated from  a station in Mountain View and ended at one in Palo Alto?',\n",
       " 'What is the average latitude and longitude of the starting points of all trips?',\n",
       " 'What is the average latitude and longitude of all starting stations for the trips?',\n",
       " 'How many books are there?',\n",
       " 'List the writers of the books in ascending alphabetical order.',\n",
       " 'List the titles of the books in ascending order of issues.',\n",
       " 'What are the titles of the books whose writer is not \"Elaine Lee\"?',\n",
       " 'What are the title and issues of the books?',\n",
       " 'What are the dates of publications in descending order of price?',\n",
       " 'What are the distinct publishers of publications with price higher than 5000000?',\n",
       " 'List the publisher of the publication with the highest price.',\n",
       " 'List the publication dates of publications with 3 lowest prices.',\n",
       " 'Show the title and publication dates of books.',\n",
       " 'Show writers who have published a book with price more than 4000000.',\n",
       " 'Show the titles of books in descending order of publication price.',\n",
       " 'Show publishers that have more than one publication.',\n",
       " 'Show different publishers together with the number of publications they have.',\n",
       " 'Please show the most common publication date.',\n",
       " 'List the writers who have written more than one book.',\n",
       " 'List the titles of books that are not published.',\n",
       " 'Show the publishers that have publications with price higher than 10000000 and publications with price lower than 5000000.',\n",
       " 'What is the number of distinct publication dates?',\n",
       " 'How many distinct publication dates are there in our record?',\n",
       " 'Show the prices of publications whose publisher is either \"Person\" or \"Wiley\"',\n",
       " 'How many actors are there?',\n",
       " 'Count the number of actors.',\n",
       " 'List the name of actors in ascending alphabetical order.',\n",
       " 'What are the names of actors, ordered alphabetically?',\n",
       " 'What are the characters and duration of actors?',\n",
       " 'Return the characters and durations for each actor.',\n",
       " 'List the name of actors whose age is not 20.',\n",
       " 'What are the names of actors who are not 20 years old?',\n",
       " 'What are the characters of actors in descending order of age?',\n",
       " 'Return the characters for actors, ordered by age descending.',\n",
       " 'What is the duration of the oldest actor?',\n",
       " 'Return the duration of the actor with the greatest age.',\n",
       " 'What are the names of musicals with nominee \"Bob Fosse\"?',\n",
       " 'Return the names of musicals who have the nominee Bob Fosse.',\n",
       " 'What are the distinct nominees of the musicals with the award that is not \"Tony Award\"?',\n",
       " 'Return the different nominees of musicals that have an award that is not the Tony Award.',\n",
       " 'Show names of actors and names of musicals they are in.',\n",
       " 'What are the names of actors and the musicals that they are in?',\n",
       " 'Show names of actors that have appeared in musical with name \"The Phantom of the Opera\".',\n",
       " 'What are the names of actors who have been in the musical titled The Phantom of the Opera?',\n",
       " 'Show names of actors in descending order of the year their musical is awarded.',\n",
       " 'What are the names of actors ordered descending by the year in which their musical was awarded?',\n",
       " 'Show names of musicals and the number of actors who have appeared in the musicals.',\n",
       " 'How many actors have appeared in each musical?',\n",
       " 'Show names of musicals which have at least three actors.',\n",
       " 'What are the names of musicals who have at 3 or more actors?',\n",
       " 'Show different nominees and the number of musicals they have been nominated.',\n",
       " 'How many musicals has each nominee been nominated for?',\n",
       " 'Please show the nominee who has been nominated the greatest number of times.',\n",
       " 'Who is the nominee who has been nominated for the most musicals?',\n",
       " 'List the most common result of the musicals.',\n",
       " 'Return the most frequent result across all musicals.',\n",
       " 'List the nominees that have been nominated more than two musicals.',\n",
       " 'Who are the nominees who have been nominated more than two times?',\n",
       " 'List the name of musicals that do not have actors.',\n",
       " 'What are the names of musicals who have no actors?',\n",
       " 'Show the nominees that have nominated musicals for both \"Tony Award\" and \"Drama Desk Award\".',\n",
       " 'Who are the nominees who have been nominated for both a Tony Award and a Drama Desk Award?',\n",
       " 'Show the musical nominee with award \"Bob Fosse\" or \"Cleavant Derricks\".',\n",
       " 'Who are the nominees who were nominated for either of the Bob Fosse or Cleavant Derricks awards?',\n",
       " 'Find the emails of the user named \"Mary\".',\n",
       " 'What is the partition id of the user named \"Iron Man\".',\n",
       " 'How many users are there?',\n",
       " 'How many followers does each user have?',\n",
       " 'Find the number of followers for each user.',\n",
       " 'Find the number of tweets in record.',\n",
       " 'Find the number of users who posted some tweets.',\n",
       " 'Find the name and email of the user whose name contains the word ‘Swift’.',\n",
       " 'Find the names of users whose emails contain ‘superstar’ or ‘edu’.',\n",
       " \"Return the text of tweets about the topic 'intern'.\",\n",
       " 'Find the name and email of the users who have more than 1000 followers.',\n",
       " 'Find the names of the users whose number of followers is greater than that of the user named \"Tyler Swift\".',\n",
       " 'Find the name and email for the users who have more than one follower.',\n",
       " 'Find the names of users who have more than one tweet.',\n",
       " 'Find the id of users who are followed by Mary and Susan.',\n",
       " 'Find the id of users who are followed by Mary or Susan.',\n",
       " 'Find the name of the user who has the largest number of followers.',\n",
       " 'Find the name and email of the user followed by the least number of people.',\n",
       " 'List the name and number of followers for each user, and sort the results by the number of followers in descending order.',\n",
       " 'List the names of 5 users followed by the largest number of other users.',\n",
       " 'List the text of all tweets in the order of date.',\n",
       " 'Find the name of each user and number of tweets tweeted by each of them.',\n",
       " 'Find the name and partition id for users who tweeted less than twice.',\n",
       " 'Find the name of the user who tweeted more than once, and number of tweets tweeted by them.',\n",
       " 'Find the average number of followers for the users who do not have any tweet.',\n",
       " 'Find the average number of followers for the users who had some tweets.',\n",
       " 'Find the maximum and total number of followers of all users.',\n",
       " 'Find the names of all the catalog entries.',\n",
       " 'What are all the catalog entry names?',\n",
       " 'Find the list of attribute data types possessed by more than 3 attribute definitions.',\n",
       " 'What are the attribute data types with more than 3 attribute definitions?',\n",
       " 'What is the attribute data type of the attribute with name \"Green\"?',\n",
       " 'Find the attribute data type for the attribute named \"Green\".',\n",
       " 'Find the name and level of catalog structure with level between 5 and 10.',\n",
       " 'What are the name and level of catalog structure with level number between 5 and 10',\n",
       " 'Find all the catalog publishers whose name contains \"Murray\"',\n",
       " 'Which catalog publishers have substring \"Murray\" in their names?',\n",
       " 'Which catalog publisher has published the most catalogs?',\n",
       " 'Find the catalog publisher that has the most catalogs.',\n",
       " 'Find the names and publication dates of all catalogs that have catalog level number greater than 5.',\n",
       " 'What are the name and publication date of the catalogs with catalog level number above 5?',\n",
       " 'What are the entry names of catalog with the attribute possessed by most entries.',\n",
       " 'Find the entry names of the catalog with the attribute that have the most entries.',\n",
       " 'What is the entry name of the most expensive catalog (in USD)?',\n",
       " 'Find the entry name of the catalog with the highest price (in USD).',\n",
       " 'What is the level name of the cheapest catalog (in USD)?',\n",
       " 'Find the level name of the catalog with the lowest price (in USD).',\n",
       " 'What are the average and minimum price (in Euro) of all products?',\n",
       " 'Give me the average and minimum price (in Euro) of the products.',\n",
       " 'What is the product with the highest height? Give me the catalog entry name.',\n",
       " 'Which catalog content has the highest height? Give me the catalog entry name.',\n",
       " 'Find the name of the product that has the smallest capacity.',\n",
       " 'Which catalog content has the smallest capacity? Return the catalog entry name.',\n",
       " 'Find the names of all the products whose stock number starts with \"2\".',\n",
       " 'Which catalog contents have a product stock number that starts from \"2\"? Show the catalog entry names.',\n",
       " 'Find the names of catalog entries with level number 8.',\n",
       " 'What are the names of catalog entries with level number 8?',\n",
       " 'Find the names of the products with length smaller than 3 or height greater than 5.',\n",
       " 'Which catalog contents have length below 3 or above 5? Find the catalog entry names.',\n",
       " 'Find the name and attribute ID of the attribute definitions with attribute value 0.',\n",
       " 'Which attribute definitions have attribute value 0? Give me the attribute name and attribute ID.',\n",
       " 'Find the name and capacity of products with price greater than 700 (in USD).',\n",
       " 'Which catalog contents has price above 700 dollars? Show their catalog entry names and capacities.',\n",
       " 'Find the dates on which more than one revisions were made.',\n",
       " 'On which days more than one revisions were made on catalogs.',\n",
       " 'How many products are there in the records?',\n",
       " 'Find the total number of catalog contents.',\n",
       " 'Name all the products with next entry ID greater than 8.',\n",
       " 'What are the catalog entry names of the products with next entry ID above 8?',\n",
       " 'How many aircrafts do we have?',\n",
       " 'How many aircrafts exist in the database?',\n",
       " 'Show name and distance for all aircrafts.',\n",
       " 'What are the names and distances for all airplanes?',\n",
       " 'Show ids for all aircrafts with more than 1000 distance.',\n",
       " 'What are the ids of all aircrafts that can cover a distance of more than 1000?',\n",
       " 'How many aircrafts have distance between 1000 and 5000?',\n",
       " 'What is the count of aircrafts that have a distance between 1000 and 5000?',\n",
       " 'What is the name and distance for aircraft with id 12?',\n",
       " 'What is the name and distance for the aircraft that has an id of 12?',\n",
       " 'What is the minimum, average, and maximum distance of all aircrafts.',\n",
       " 'Return the minimum, average and maximum distances traveled across all aircrafts.',\n",
       " 'Show the id and name of the aircraft with the maximum distance.',\n",
       " 'What is the id and name of the aircraft that can cover the maximum distance?',\n",
       " 'Show the name of aircrafts with top three lowest distances.',\n",
       " 'What are the aircrafts with top 3 shortest lengthes? List their names.',\n",
       " 'Show names for all aircrafts with distances more than the average.',\n",
       " 'What are the names of all aircrafts that can cover more distances than average?',\n",
       " 'How many employees do we have?',\n",
       " 'What is the number of employees?',\n",
       " 'Show name and salary for all employees sorted by salary.',\n",
       " 'What is the name and salary of all employees in order of salary?',\n",
       " 'Show ids for all employees with at least 100000 salary.',\n",
       " 'What is the id of every employee who has at least a salary of  100000?',\n",
       " 'How many employees have salary between 100000 and 200000?',\n",
       " 'What is the number of employees that have a salary between 100000 and 200000?',\n",
       " 'What is the name and salary for employee with id 242518965?',\n",
       " 'What is the name and salary of the employee with the id 242518965?',\n",
       " 'What is average and maximum salary of all employees.',\n",
       " 'What is the average and largest salary of all employees?',\n",
       " 'Show the id and name of the employee with maximum salary.',\n",
       " 'What is the id and name of the employee with the highest salary?',\n",
       " 'Show the name of employees with three lowest salaries.',\n",
       " 'What is the name of the 3 employees who get paid the least?',\n",
       " 'Show names for all employees with salary more than the average.',\n",
       " 'What are the names of all employees who have a salary higher than average?',\n",
       " 'Show the id and salary of Mark Young.',\n",
       " 'What is the id and salary of the employee named Mark Young?',\n",
       " 'How many flights do we have?',\n",
       " 'What is the number of flights?',\n",
       " 'Show flight number, origin, destination of all flights in the alphabetical order of the departure cities.',\n",
       " 'What is the flight number, origin, and destination for all flights in alphabetical order by departure cities?',\n",
       " 'Show all flight number from Los Angeles.',\n",
       " 'What are the numbers of all flights coming from Los Angeles?',\n",
       " 'Show origins of all flights with destination Honolulu.',\n",
       " 'What are the origins of all flights that are headed to Honolulu?',\n",
       " 'Show me the departure date and arrival date for all flights from Los Angeles to Honolulu.',\n",
       " 'What are the departure and arrival dates of all flights from LA to Honolulu?',\n",
       " 'Show flight number for all flights with more than 2000 distance.',\n",
       " 'What are the numbers of all flights that can cover a distance of more than 2000?',\n",
       " 'What is the average price for flights from Los Angeles to Honolulu.',\n",
       " 'What is the average price for flights from LA to Honolulu?',\n",
       " 'Show origin and destination for flights with price higher than 300.',\n",
       " 'What is the origin and destination for all flights whose price is higher than 300?',\n",
       " 'Show the flight number and distance of the flight with maximum price.',\n",
       " 'What is the flight number and its distance for the one with the maximum price?',\n",
       " 'Show the flight number of flights with three lowest distances.',\n",
       " 'What are the numbers of the shortest flights?',\n",
       " 'What is the average distance and average price for flights from Los Angeles.',\n",
       " 'What is the average distance and price for all flights from LA?',\n",
       " 'Show all origins and the number of flights from each origin.',\n",
       " 'For each origin, how many flights came from there?',\n",
       " 'Show all destinations and the number of flights to each destination.',\n",
       " 'What are the destinations and number of flights to each one?',\n",
       " 'Which origin has most number of flights?',\n",
       " 'What place has the most flights coming from there?',\n",
       " 'Which destination has least number of flights?',\n",
       " 'What destination has the fewest number of flights?',\n",
       " 'What is the aircraft name for the flight with number 99',\n",
       " 'What is the name of the aircraft that was on flight number 99?',\n",
       " 'Show all flight numbers with aircraft Airbus A340-300.',\n",
       " 'What are the flight numbers for the aircraft Airbus A340-300?',\n",
       " 'Show aircraft names and number of flights for each aircraft.',\n",
       " 'What is the name of each aircraft and how many flights does each one complete?',\n",
       " 'Show names for all aircraft with at least two flights.',\n",
       " 'What are the names for all aircrafts with at least 2 flights?',\n",
       " 'How many employees have certificate.',\n",
       " 'What is the count of distinct employees with certificates?',\n",
       " \"Show ids for all employees who don't have a certificate.\",\n",
       " \"What are the ids of all employees that don't have certificates?\",\n",
       " 'Show names for all aircrafts of which John Williams has certificates.',\n",
       " 'What are the names of all aircrafts that John Williams have certificates to be able to fly?',\n",
       " 'Show names for all employees who have certificate of Boeing 737-800.',\n",
       " 'What are the names of all employees who have a certificate to fly Boeing 737-800?',\n",
       " 'Show names for all employees who have certificates on both Boeing 737-800 and Airbus A340-300.',\n",
       " 'What are the names of all employees who can fly both the Boeing 737-800 and the Airbus A340-300?',\n",
       " 'Show names for all employees who do not have certificate of Boeing 737-800.',\n",
       " 'What are the names of all employees who are not certified to fly Boeing 737-800s?',\n",
       " 'Show the name of aircraft which fewest people have its certificate.',\n",
       " 'What are the names of the aircraft that the least people are certified to fly?',\n",
       " 'Show the name and distance of the aircrafts with more than 5000 distance and which at least 5 people have its certificate.',\n",
       " 'What is the name and distance of every aircraft that can cover a distance of more than 5000 and which at least 5 people can fly?',\n",
       " 'what is the salary and name of the employee who has the most number of aircraft certificates?',\n",
       " 'What is the salaray and name of the employee that is certified to fly the most planes?',\n",
       " 'What is the salary and name of the employee who has the most number of certificates on aircrafts with distance more than 5000?',\n",
       " 'What is the salaray and name of the employee with the most certificates to fly planes more than 5000?',\n",
       " 'How many allergies are there?',\n",
       " 'How many allergy entries are there?',\n",
       " 'How many different allergy types exist?',\n",
       " 'How many distinct allergies are there?',\n",
       " 'Show all allergy types.',\n",
       " 'What are the different allergy types?',\n",
       " 'Show all allergies and their types.',\n",
       " 'What are the allergies and their types?',\n",
       " 'Show all allergies with type food.',\n",
       " 'What are all the different food allergies?',\n",
       " 'What is the type of allergy Cat?',\n",
       " 'What is allergy type of a cat allergy?',\n",
       " 'How many allergies have type animal?',\n",
       " 'How many animal type allergies exist?',\n",
       " 'Show all allergy types and the number of allergies in each type.',\n",
       " 'What are the allergy types and how many allergies correspond to each one?',\n",
       " 'Which allergy type has most number of allergies?',\n",
       " 'Which allergy type is most common?',\n",
       " 'Which allergy type has least number of allergies?',\n",
       " 'Which allergy type is the least common?',\n",
       " 'How many students are there?',\n",
       " 'What is the total number of students?',\n",
       " 'Show first name and last name for all students.',\n",
       " 'What are the full names of all students',\n",
       " 'How many different advisors are listed?',\n",
       " 'How many advisors are there?',\n",
       " 'Show all majors.',\n",
       " 'What are the different majors?',\n",
       " 'Show all cities where students live.',\n",
       " 'What cities do students live in?',\n",
       " 'Show first name, last name, age for all female students. Their sex is F.',\n",
       " 'What are the full names and ages for all female students whose sex is F?',\n",
       " 'Show student ids for all male students.',\n",
       " 'What are the student ids for all male students?',\n",
       " 'How many students are age 18?',\n",
       " 'How many students are 18 years old?',\n",
       " 'Show all student ids who are older than 20.',\n",
       " 'What are the student ids for students over 20 years old?',\n",
       " 'Which city does the student whose last name is \"Kim\" live in?',\n",
       " 'Give the city that the student whose family name is Kim lives in.',\n",
       " 'Who is the advisor of student with ID 1004?',\n",
       " 'Who advises student 1004?',\n",
       " 'How many students live in HKG or CHI?',\n",
       " 'Give the number of students living in either HKG or CHI.',\n",
       " 'Show the minimum, average, and maximum age of all students.',\n",
       " 'What is the minimum, mean, and maximum age across all students?',\n",
       " 'What is the last name of the youngest student?',\n",
       " 'Provide the last name of the youngest student.',\n",
       " 'Show the student id of the oldest student.',\n",
       " 'What student id corresponds to the oldest student?',\n",
       " 'Show all majors and corresponding number of students.',\n",
       " 'How many students are there for each major?',\n",
       " 'Which major has most number of students?',\n",
       " 'What is the largest major?',\n",
       " 'Show all ages and corresponding number of students.',\n",
       " 'How old is each student and how many students are each age?',\n",
       " 'Show the average age for male and female students.',\n",
       " 'What are the average ages for male and female students?',\n",
       " 'Show all cities and corresponding number of students.',\n",
       " 'How many students live in each city?',\n",
       " 'Show all advisors and corresponding number of students.',\n",
       " 'How many students does each advisor have?',\n",
       " 'Which advisor has most number of students?',\n",
       " 'Give the advisor with the most students.',\n",
       " 'How many students have cat allergies?',\n",
       " 'How many students are affected by cat allergies?',\n",
       " 'Show all student IDs who have at least two allergies.',\n",
       " 'What are the students ids of students who have more than one allergy?',\n",
       " \"What are the student ids of students who don't have any allergies?\",\n",
       " 'Which students are unaffected by allergies?',\n",
       " 'How many female students have milk or egg allergies?',\n",
       " 'How many students who are female are allergic to milk or eggs?',\n",
       " 'How many students have a food allergy?',\n",
       " 'How many students are affected by food related allergies?',\n",
       " 'Which allergy has most number of students affected?',\n",
       " 'Which allergy is the most common?',\n",
       " 'Show all allergies with number of students affected.',\n",
       " 'How many students have each different allergy?',\n",
       " 'Show all allergy type with number of students affected.',\n",
       " 'How many students are affected by each allergy type?',\n",
       " 'Find the last name and age of the student who has allergy to both milk and cat.',\n",
       " 'What are the last names and ages of the students who are allergic to milk and cat?',\n",
       " 'What are the allergies and their types that the student with first name Lisa has? And order the result by name of allergies.',\n",
       " 'What are the allergies the girl named Lisa has? And what are the types of them? Order the result by allergy names.',\n",
       " 'Find the first name and gender of the student who has allergy to milk but not cat.',\n",
       " 'What are the first name and gender of the students who have allergy to milk but can put up with cats?',\n",
       " 'Find the average age of the students who have allergies with food and animal types.',\n",
       " 'How old are the students with allergies to food and animal types on average?',\n",
       " 'List the first and last name of the students who do not have any food type allergy.',\n",
       " 'What is the full name of each student who is not allergic to any type of food.',\n",
       " \"Find the number of male (sex is 'M') students who have some food type allery.\",\n",
       " \"How many male students (sex is 'M') are allergic to any type of food?\",\n",
       " 'Find the different first names and cities of the students who have allergy to milk or cat.',\n",
       " 'What are the distinct first names and cities of the students who have allergy either to milk or to cat?',\n",
       " 'Find the number of students who are older than 18 and do not have allergy to either food or animal.',\n",
       " 'How many students are over 18 and do not have allergy to food type or animal type?',\n",
       " 'Find the first name and major of the students who are not allegry to soy.',\n",
       " 'What are the first name and major of the students who are able to consume soy?',\n",
       " 'A list of the top 5 countries by number of invoices. List country name and number of invoices.',\n",
       " 'What are the top 5 countries by number of invoices and how many do they have?',\n",
       " 'A list of the top 8 countries by gross/total invoice size. List country name and gross invoice size.',\n",
       " 'What are the names of the top 8 countries by total invoice size and what are those sizes?',\n",
       " 'A list of the top 10 countries by average invoice size. List country name and average invoice size.',\n",
       " 'What are the names of the countries and average invoice size of the top countries by size?',\n",
       " \"Find out 5 customers who most recently purchased something. List customers' first and last name.\",\n",
       " 'What are the first and last names of the 5 customers who purchased something most recently?',\n",
       " \"Find out the top 10 customers by total number of orders. List customers' first and last name and the number of total orders.\",\n",
       " \"What are the top 10 customers' first and last names by total number of orders and how many orders did they make?\",\n",
       " \"List the top 10 customers by total gross sales. List customers' first and last name and total gross sales.\",\n",
       " \"What are the top 10 customers' first and last names with the highest gross sales, and also what are the sales?\",\n",
       " 'List the top 5 genres by number of tracks. List genres name and total tracks.',\n",
       " 'How many tracks does each genre have and what are the names of the top 5?',\n",
       " \"List every album's title.\",\n",
       " 'What are the titles of all the albums?',\n",
       " 'List every album ordered by album title in ascending order.',\n",
       " 'What are the titles of all the albums alphabetically ascending?',\n",
       " 'List every album whose title starts with A in alphabetical order.',\n",
       " 'What are the titles of all albums that start with A in alphabetical order?',\n",
       " 'List the customers first and last name of 10 least expensive invoices.',\n",
       " 'What are the first and last names of the customers with the 10 cheapest invoices?',\n",
       " 'List total amount of  invoice from Chicago, IL.',\n",
       " 'What are the total amount of money in the invoices billed from Chicago, Illinois?',\n",
       " 'List the number of invoices from Chicago, IL.',\n",
       " 'How many invoices were billed from Chicago, IL?',\n",
       " 'List the number of invoices from the US, grouped by state.',\n",
       " 'How many invoices were billed from each state?',\n",
       " 'List the state in the US with the most invoices.',\n",
       " 'What are the states with the most invoices?',\n",
       " 'List the number of invoices and the invoice total from California.',\n",
       " 'What is the number of invoices and total money billed in them from CA?',\n",
       " \"List Aerosmith's albums.\",\n",
       " 'What are the titles of all the Aerosmith albums?',\n",
       " 'How many albums does Billy Cobham has?',\n",
       " 'How many albums has Billy Cobam released?',\n",
       " 'Eduardo Martins is a customer at which company?',\n",
       " 'What is the company where Eduardo Martins is a customer?',\n",
       " \"What is Astrid Gruber's email and phone number?\",\n",
       " 'What is the email and phone number of Astrid Gruber the customer?',\n",
       " 'How many customers live in Prague city?',\n",
       " 'How many customers live in the city of Prague?',\n",
       " 'How many customers in state of CA?',\n",
       " 'How many customers are from California?',\n",
       " 'What country does Roberto Almeida live?',\n",
       " 'In which country does Roberto Almeida?',\n",
       " \"List the name of albums that are released by aritist whose name has 'Led'\",\n",
       " \"What is the title of the album that was released by the artist whose name has the phrase 'Led'?\",\n",
       " 'How many customers does Steve Johnson support?',\n",
       " 'What is the count of customers that Steve Johnson supports?',\n",
       " 'What is the title, phone and hire date of Nancy Edwards?',\n",
       " 'What is the title, phone number and hire date for the employee named Nancy Edwards?',\n",
       " 'find the full name of employees who report to Nancy Edwards?',\n",
       " 'What is the first and last name of the employee who reports to Nancy Edwards?',\n",
       " 'What is the address of employee Nancy Edwards?',\n",
       " \"What is Nancy Edwards's address?\",\n",
       " 'Find the full name of employee who supported the most number of customers.',\n",
       " 'What is the full name of the employee who has the most customers?',\n",
       " 'How many employees are living in Canada?',\n",
       " 'How many employees live in Canada?',\n",
       " \"What is employee Nancy Edwards's phone number?\",\n",
       " 'What is the the phone number of Nancy Edwards?',\n",
       " \"Who is the youngest employee in the company? List employee's first and last name.\",\n",
       " \"What si the youngest employee's first and last name?\",\n",
       " \"List top 10 employee work longest in the company. List employee's first and last name.\",\n",
       " 'What are the first and last names of the top 10 longest-serving employees?',\n",
       " 'Find the number of employees whose title is IT Staff from each city?',\n",
       " 'How many employees who are IT staff are from each city?',\n",
       " \"Which employee manage most number of peoples? List employee's first and last name, and number of people report to that employee.\",\n",
       " 'What are the first and last names of all the employees and how many people report to them?',\n",
       " 'How many orders does Lucas Mancini has?',\n",
       " 'How many orders does Luca Mancini have in his invoices?',\n",
       " 'What is the total amount of money spent by Lucas Mancini?',\n",
       " 'How much money did Lucas Mancini spend?',\n",
       " 'List all media types.',\n",
       " 'What are the names of all the media types?',\n",
       " 'List all different genre types.',\n",
       " 'What are the different names of the genres?',\n",
       " 'List the name of all playlist.',\n",
       " 'What are the names of all the playlists?',\n",
       " 'Who is the composer of track Fast As a Shark?',\n",
       " 'What is the composer who created the track \"Fast As a Shark\"?',\n",
       " 'How long does track Fast As a Shark has?',\n",
       " 'How many milliseconds long is Fast As a Shark?',\n",
       " 'What is the name of tracks whose genre is Rock?',\n",
       " 'What is the name of all tracks in the Rock genre?',\n",
       " 'What is title of album which track Balls to the Wall belongs to?',\n",
       " 'What is the name of the album that has the track Ball to the Wall?',\n",
       " 'List name of all tracks in Balls to the Wall.',\n",
       " 'What is the name of all tracks in the album named Balls to the Wall?',\n",
       " 'List title of albums have the number of tracks greater than 10.',\n",
       " 'What are the names of the albums that have more than 10 tracks?',\n",
       " 'List the name of tracks belongs to genre Rock and whose media type is MPEG audio file.',\n",
       " 'What are the names of all Rock tracks that are stored on MPEG audio files?',\n",
       " 'List the name of tracks belongs to genre Rock or media type is MPEG audio file.',\n",
       " 'What are the names of all tracks that belong to the Rock genre and whose media type is MPEG?',\n",
       " 'List the name of tracks belongs to genre Rock or genre Jazz.',\n",
       " 'What are the names of the tracks that are Rock or Jazz songs?',\n",
       " 'List the name of all tracks in the playlists of Movies.',\n",
       " 'What are the names of all tracks that are on playlists titled Movies?',\n",
       " 'List the name of playlist which has number of tracks greater than 100.',\n",
       " 'What are the names of all playlists that have more than 100 tracks?',\n",
       " 'List all tracks bought by customer Daan Peeters.',\n",
       " 'What are the tracks that Dean Peeters bought?',\n",
       " 'How much is the track Fast As a Shark?',\n",
       " 'What is the unit price of the tune \"Fast As a Shark\"?',\n",
       " 'Find the name of tracks which are in Movies playlist but not in music playlist.',\n",
       " 'What are the names of all tracks that are on the Movies playlist but not in the music playlist?',\n",
       " 'Find the name of tracks which are in both Movies and music playlists.',\n",
       " 'What are the names of all the tracks that are in both the Movies and music playlists?',\n",
       " 'Find number of tracks in each genre?',\n",
       " 'How many tracks are in each genre?',\n",
       " 'How many editors are there?',\n",
       " 'List the names of editors in ascending order of age.',\n",
       " 'What are the names and ages of editors?',\n",
       " 'List the names of editors who are older than 25.',\n",
       " 'Show the names of editors of age either 24 or 25.',\n",
       " 'What is the name of the youngest editor?',\n",
       " 'What are the different ages of editors? Show each age along with the number of editors of that age.',\n",
       " 'Please show the most common age of editors.',\n",
       " 'Show the distinct themes of journals.',\n",
       " 'Show the names of editors and the theme of journals for which they serve on committees.',\n",
       " 'For each journal_committee, find the editor name and the journal theme.',\n",
       " 'Show the names and ages of editors and the theme of journals for which they serve on committees, in ascending alphabetical order of theme.',\n",
       " 'Show the names of editors that are on the committee of journals with sales bigger than 3000.',\n",
       " 'Show the id, name of each editor and the number of journal committees they are on.',\n",
       " 'Show the names of editors that are on at least two journal committees.',\n",
       " 'List the names of editors that are not on any journal committee.',\n",
       " 'List the date, theme and sales of the journal which did not have any of the listed editors serving on committee.',\n",
       " \"What is the average sales of the journals that have an editor whose work type is 'Photo'?\",\n",
       " 'How many accounts do we have?',\n",
       " 'Count the number of accounts.',\n",
       " 'Show ids, customer ids, names for all accounts.',\n",
       " 'What are the account ids, customer ids, and account names for all the accounts?',\n",
       " 'Show other account details for account with name 338.',\n",
       " 'What are the other account details for the account with the name 338?',\n",
       " 'What is the first name, last name, and phone of the customer with account name 162?',\n",
       " 'Give the full name and phone of the customer who has the account name 162.',\n",
       " 'How many accounts does the customer with first name Art and last name Turcotte have?',\n",
       " 'Return the number of accounts that the customer with the first name Art and last name Turcotte has.',\n",
       " 'Show all customer ids and the number of accounts for each customer.',\n",
       " 'How many accounts are there for each customer id?',\n",
       " 'Show the customer id and number of accounts with most accounts.',\n",
       " 'What is the customer id of the customer with the most accounts, and how many accounts does this person have?',\n",
       " 'What is the customer first, last name and id with least number of accounts.',\n",
       " 'Give the full name and customer id of the customer with the fewest accounts.',\n",
       " 'Show the number of all customers without an account.',\n",
       " 'How many customers do not have an account?',\n",
       " 'Show the first names and last names of customers without any account.',\n",
       " 'What are the full names of customers who do not have any accounts?',\n",
       " 'Show distinct first and last names for all customers with an account.',\n",
       " 'What are the full names of customers who have accounts?',\n",
       " 'How many customers have an account?',\n",
       " 'Count the number of customers who hold an account.',\n",
       " 'How many customers do we have?',\n",
       " 'Count the number of customers.',\n",
       " 'Show ids, first names, last names, and phones for all customers.',\n",
       " 'What are the ids, full names, and phones of each customer?',\n",
       " 'What is the phone and email for customer with first name Aniyah and last name Feest?',\n",
       " 'Return the phone and email of the customer with the first name Aniyah and last name Feest.',\n",
       " 'Show the number of customer cards.',\n",
       " 'How many customer cards are there?',\n",
       " 'Show ids, customer ids, card type codes, card numbers for all cards.',\n",
       " 'What are card ids, customer ids, card types, and card numbers for each customer card?',\n",
       " \"Show the date valid from and the date valid to for the card with card number '4560596484842'.\",\n",
       " 'What are the valid from and valid to dates for the card with the number 4560596484842?',\n",
       " 'What is the first name, last name, and phone of the customer with card 4560596484842.',\n",
       " 'Return the full name and phone of the customer who has card number 4560596484842.',\n",
       " 'How many cards does customer Art Turcotte have?',\n",
       " 'Count the number of cards the customer with the first name Art and last name Turcotte has.',\n",
       " 'How many debit cards do we have?',\n",
       " 'Count the number of customer cards of the type Debit.',\n",
       " 'How many credit cards does customer Blanche Huels have?',\n",
       " 'Count the number of credit cards that the customer with first name Blanche and last name Huels has.',\n",
       " 'Show all customer ids and the number of cards owned by each customer.',\n",
       " 'What are the different customer ids, and how many cards does each one hold?',\n",
       " 'What is the customer id with most number of cards, and how many does he have?',\n",
       " 'Return the id of the customer who has the most cards, as well as the number of cards.',\n",
       " 'Show id, first and last names for all customers with at least two cards.',\n",
       " 'What are the ids and full names of customers who hold two or more cards?',\n",
       " 'What is the customer id, first and last name with least number of accounts.',\n",
       " 'Return the id and full name of the customer who has the fewest accounts.',\n",
       " 'Show all card type codes and the number of cards in each type.',\n",
       " 'What are the different card types, and how many cards are there of each?',\n",
       " 'What is the card type code with most number of cards?',\n",
       " 'Return the code of the card type that is most common.',\n",
       " 'Show card type codes with at least 5 cards.',\n",
       " 'What are the codes of card types that have 5 or more cards?',\n",
       " 'Show all card type codes and the number of customers holding cards in each type.',\n",
       " 'What are the different card type codes, and how many different customers hold each type?',\n",
       " 'Show the customer ids and firstname without a credit card.',\n",
       " 'What are the ids and first names of customers who do not hold a credit card?',\n",
       " 'Show all card type codes.',\n",
       " 'What are the different card type codes?',\n",
       " 'Show the number of card types.',\n",
       " 'How many different card types are there?',\n",
       " 'Show all transaction types.',\n",
       " 'What are the different types of transactions?',\n",
       " 'Show the number of transaction types.',\n",
       " 'How many different types of transactions are there?',\n",
       " 'What is the average and total transaction amount?',\n",
       " 'Return the average transaction amount, as well as the total amount of all transactions.',\n",
       " 'Show the card type codes and the number of transactions.',\n",
       " 'What are the different card types, and how many transactions have been made with each?',\n",
       " 'Show the transaction type and the number of transactions.',\n",
       " 'What are the different transaction types, and how many transactions of each have taken place?',\n",
       " 'What is the transaction type that has processed the greatest total amount in transactions?',\n",
       " 'Return the type of transaction with the highest total amount.',\n",
       " 'Show the account id and the number of transactions for each account',\n",
       " 'What are the different account ids that have made financial transactions, as well as how many transactions correspond to each?',\n",
       " 'How many tracks do we have?',\n",
       " 'Count the number of tracks.',\n",
       " 'Show the name and location for all tracks.',\n",
       " 'What are the names and locations of all tracks?',\n",
       " 'Show names and seatings, ordered by seating for all tracks opened after 2000.',\n",
       " 'What are the names and seatings for all tracks opened after 2000, ordered by seating?',\n",
       " 'What is the name, location and seating for the most recently opened track?',\n",
       " 'Return the name, location, and seating of the track that was opened in the most recent year.',\n",
       " 'What is the minimum, maximum, and average seating for all tracks.',\n",
       " 'Return the minimum, maximum, and average seating across all tracks.',\n",
       " 'Show the name, location, open year for all tracks with a seating higher than the average.',\n",
       " 'What are the names, locations, and years of opening for tracks with seating higher than average?',\n",
       " 'What are distinct locations where tracks are located?',\n",
       " 'Give the different locations of tracks.',\n",
       " 'How many races are there?',\n",
       " 'Count the number of races.',\n",
       " 'What are the distinct classes that races can have?',\n",
       " 'Return the different classes of races.',\n",
       " 'Show name, class, and date for all races.',\n",
       " 'What are the names, classes, and dates for all races?',\n",
       " 'Show the race class and number of races in each class.',\n",
       " 'What are the different classes of races, and how many races correspond to each?',\n",
       " 'What is the race class with most number of races.',\n",
       " 'Give the class of races that is most common.',\n",
       " 'List the race class with at least two races.',\n",
       " 'What are the classes of races that have two or more corresponding races?',\n",
       " \"What are the names for tracks without a race in class 'GT'.\",\n",
       " \"Give the names of tracks that do not have a race in the class 'GT'.\",\n",
       " 'Show all track names that have had no races.',\n",
       " 'Return the names of tracks that have no had any races.',\n",
       " 'Show year where a track with a seating at least 5000 opened and a track with seating no more than 4000 opened.',\n",
       " 'What are the years of opening for tracks with seating between 4000 and 5000?',\n",
       " 'Show the name of track and the number of races in each track.',\n",
       " 'What are the names of different tracks, and how many races has each had?',\n",
       " 'Show the name of track with most number of races.',\n",
       " 'What is the name of the track that has had the greatest number of races?',\n",
       " 'Show the name and date for each race and its track name.',\n",
       " 'What are the names and dates of races, and the names of the tracks where they are held?',\n",
       " 'Show the name and location of track with 1 race.',\n",
       " 'What are the names and locations of tracks that have had exactly 1 race?',\n",
       " 'Find the locations where have both tracks with more than 90000 seats and tracks with less than 70000 seats.',\n",
       " 'What are the locations that have both tracks with more than 90000 seats, and tracks with fewer than 70000 seats?',\n",
       " 'How many members have the black membership card?',\n",
       " 'Find the number of members living in each address.',\n",
       " 'Give me the names of members whose address is in Harford or Waterbury.',\n",
       " 'Find the ids and names of members who are under age 30 or with black membership card.',\n",
       " 'Find the purchase time, age and address of each member, and show the results in the order of purchase time.',\n",
       " 'Which membership card has more than 5 members?',\n",
       " 'Which address has both members younger than 30 and members older than 40?',\n",
       " 'What is the membership card held by both members living in Hartford and ones living in Waterbury address?',\n",
       " 'How many members are not living in Hartford?',\n",
       " 'Which address do not have any member with the black membership card?',\n",
       " 'Show the shop addresses ordered by their opening year.',\n",
       " 'What are the average score and average staff number of all shops?',\n",
       " 'Find the id and address of the shops whose score is below the average score.',\n",
       " 'Find the address and staff number of the shops that do not have any happy hour.',\n",
       " 'What are the id and address of the shops which have a happy hour in May?',\n",
       " 'which shop has happy hour most frequently? List its id and number of happy hours.',\n",
       " 'Which month has the most happy hours?',\n",
       " 'Which months have more than 2 happy hours?',\n",
       " 'How many albums are there?',\n",
       " 'Find the number of albums.',\n",
       " 'List the names of all music genres.',\n",
       " 'What are the names of different music genres?',\n",
       " 'Find all the customer information in state NY.',\n",
       " 'What is all the customer information for customers in NY state?',\n",
       " 'What are the first names and last names of the employees who live in Calgary city.',\n",
       " 'Find the full names of employees living in the city of Calgary.',\n",
       " 'What are the distinct billing countries of the invoices?',\n",
       " 'Find the different billing countries for all invoices.',\n",
       " 'Find the names of all artists that have \"a\" in their names.',\n",
       " \"What are the names of artist who have the letter 'a' in their names?\",\n",
       " 'Find the title of all the albums of the artist \"AC/DC\".',\n",
       " 'What are the titles of albums by the artist \"AC/DC\"?',\n",
       " 'Hom many albums does the artist \"Metallica\" have?',\n",
       " 'Find the number of albums by the artist \"Metallica\".',\n",
       " 'Which artist does the album \"Balls to the Wall\" belong to?',\n",
       " 'Find the name of the artist who made the album \"Balls to the Wall\".',\n",
       " 'Which artist has the most albums?',\n",
       " 'What is the name of the artist with the greatest number of albums?',\n",
       " 'Find the names of all the tracks that contain the word \"you\".',\n",
       " 'What are the names of tracks that contain the the word you in them?',\n",
       " 'What is the average unit price of all the tracks?',\n",
       " 'Find the average unit price for a track.',\n",
       " 'What are the durations of the longest and the shortest tracks in milliseconds?',\n",
       " 'Find the maximum and minimum durations of tracks in milliseconds.',\n",
       " 'Show the album names, ids and the number of tracks for each album.',\n",
       " 'What are the names and ids of the different albums, and how many tracks are on each?',\n",
       " 'What is the name of the most common genre in all tracks?',\n",
       " 'Find the name of the genre that is most frequent across all tracks.',\n",
       " 'What is the least common media type in all tracks?',\n",
       " 'What is the name of the media type that is least common across all tracks?',\n",
       " 'Show the album names and ids for albums that contain tracks with unit price bigger than 1.',\n",
       " 'What are the titles and ids for albums containing tracks with unit price greater than 1?',\n",
       " 'How many tracks belong to rock genre?',\n",
       " 'Count the number of tracks that are part of the rock genre.',\n",
       " 'What is the average unit price of tracks that belong to Jazz genre?',\n",
       " 'Find the average unit price of jazz tracks.',\n",
       " 'What is the first name and last name of the customer that has email \"luisg@embraer.com.br\"?',\n",
       " 'Find the full name of the customer with the email \"luisg@embraer.com.br\".',\n",
       " 'How many customers have email that contains \"gmail.com\"?',\n",
       " 'Count the number of customers that have an email containing \"gmail.com\".',\n",
       " 'What is the first name and last name employee helps the customer with first name Leonie?',\n",
       " 'Find the full names of employees who help customers with the first name Leonie.',\n",
       " 'What city does the employee who helps the customer with postal code 70174 live in?',\n",
       " 'Find the cities corresponding to employees who help customers with the postal code 70174.',\n",
       " 'How many distinct cities does the employees live in?',\n",
       " 'Find the number of different cities that employees live in.',\n",
       " 'Find all invoice dates corresponding to customers with first name Astrid and last name Gruber.',\n",
       " 'What are the invoice dates for customers with the first name Astrid and the last name Gruber?',\n",
       " 'Find all the customer last names that do not have invoice totals larger than 20.',\n",
       " 'What are the last names of customers without invoice totals exceeding 20?',\n",
       " 'Find the first names of all customers that live in Brazil and have an invoice.',\n",
       " 'What are the different first names for customers from Brazil who have also had an invoice?',\n",
       " 'Find the address of all customers that live in Germany and have invoice.',\n",
       " 'What are the addresses of customers living in Germany who have had an invoice?',\n",
       " 'List the phone numbers of all employees.',\n",
       " 'What are the phone numbers for each employee?',\n",
       " 'How many tracks are in the AAC audio file media type?',\n",
       " 'Count the number of tracks that are of the media type \"AAC audio file\".',\n",
       " 'What is the average duration in milliseconds of tracks that belong to Latin or Pop genre?',\n",
       " 'Find the average millisecond length of Latin and Pop tracks.',\n",
       " 'Please show the employee first names and ids of employees who serve at least 10 customers.',\n",
       " 'What are the first names and support rep ids for employees serving 10 or more customers?',\n",
       " 'Please show the employee last names that serves no more than 20 customers.',\n",
       " 'What are the last names of employees who serve at most 20 customers?',\n",
       " 'Please list all album titles in alphabetical order.',\n",
       " 'What are all the album titles, in alphabetical order?',\n",
       " 'Please list the name and id of all artists that have at least 3 albums in alphabetical order.',\n",
       " 'What are the names and ids of artists with 3 or more albums, listed in alphabetical order?',\n",
       " 'Find the names of artists that do not have any albums.',\n",
       " 'What are the names of artists who have not released any albums?',\n",
       " 'What is the average unit price of rock tracks?',\n",
       " 'Find the average unit price of tracks from the Rock genre.',\n",
       " 'What are the duration of the longest and shortest pop tracks in milliseconds?',\n",
       " 'Find the maximum and minimum millisecond lengths of pop tracks.',\n",
       " 'What are the birth dates of employees living in Edmonton?',\n",
       " 'Find the birth dates corresponding to employees who live in the city of Edmonton.',\n",
       " 'What are the distinct unit prices of all tracks?',\n",
       " 'Find the distinct unit prices for tracks.',\n",
       " 'How many artists do not have any album?',\n",
       " 'Cound the number of artists who have not released an album.',\n",
       " \"What are the album titles for albums containing both 'Reggae' and 'Rock' genre tracks?\",\n",
       " 'Find the titles of albums that contain tracks of both the Reggae and Rock genres.',\n",
       " 'Find all the phone numbers.',\n",
       " 'What are all the phone numbers?',\n",
       " 'What are the customer phone numbers under the policy \"Life Insurance\"?',\n",
       " 'What are the phone numbers of customers using the policy with the code \"Life Insurance\"?',\n",
       " 'Which policy type has the most records in the database?',\n",
       " 'Which policy type appears most frequently in the available policies?',\n",
       " 'What are all the customer phone numbers under the most popular policy type?',\n",
       " 'Find the phone numbers of customers using the most common policy type among the available policies.',\n",
       " 'Find the policy type used by more than 4 customers.',\n",
       " 'Find the policy types more than 4 customers use. Show their type code.',\n",
       " 'Find the total and average amount of settlements.',\n",
       " 'Return the sum and average of all settlement amounts.',\n",
       " 'Find the name of services that have been used for more than 2 times in first notification of loss.',\n",
       " 'Which services have been used more than twice in first notification of loss? Return the service name.',\n",
       " 'What is the effective date of the claim that has the largest amount of total settlement?',\n",
       " 'Find the claim that has the largest total settlement amount. Return the effective date of the claim.',\n",
       " 'How many policies are listed for the customer named \"Dayana Robel\"?',\n",
       " 'Count the total number of policies used by the customer named \"Dayana Robel\".',\n",
       " 'What is the name of the customer who has the most policies listed?',\n",
       " 'Which customer uses the most policies? Give me the customer name.',\n",
       " 'What are all the policy types of the customer named \"Dayana Robel\"?',\n",
       " 'Tell me the types of the policy used by the customer named \"Dayana Robel\".',\n",
       " 'What are all the policy types of the customer that has the most policies listed?',\n",
       " 'List all the policy types used by the customer enrolled in the most policies.',\n",
       " 'List all the services in the alphabetical order.',\n",
       " 'Give me a list of all the service names sorted alphabetically.',\n",
       " 'How many services are there?',\n",
       " 'Count the total number of available services.',\n",
       " 'Find the names of users who do not have a first notification of loss record.',\n",
       " 'Which customers do not have a first notification of loss record? Give me the customer names.',\n",
       " 'Find the names of customers who have used either the service \"Close a policy\" or the service \"Upgrade a policy\".',\n",
       " 'Which customers have used the service named \"Close a policy\" or \"Upgrade a policy\"? Give me the customer names.',\n",
       " 'Find the names of customers who have used both the service \"Close a policy\" and the service \"New policy application\".',\n",
       " 'Which customers have used both the service named \"Close a policy\" and the service named \"Upgrade a policy\"? Give me the customer names.',\n",
       " 'Find the IDs of customers whose name contains \"Diana\".',\n",
       " 'What are the IDs of customers who have \"Diana\" in part of their names?',\n",
       " 'What are the maximum and minimum settlement amount on record?',\n",
       " 'Find the maximum and minimum settlement amount.',\n",
       " 'List all the customers in increasing order of IDs.',\n",
       " 'What is the ordered list of customer ids?',\n",
       " 'Retrieve the open and close dates of all the policies associated with the customer whose name contains \"Diana\"',\n",
       " 'What are the open and close dates of all the policies used by the customer who have \"Diana\" in part of their names?',\n",
       " 'How many kinds of enzymes are there?',\n",
       " 'What is the total count of enzymes?',\n",
       " 'List the name of enzymes in descending lexicographical order.',\n",
       " 'What are the names of enzymes in descending order?',\n",
       " 'List the names and the locations that the enzymes can make an effect.',\n",
       " 'What are the names and locations of all enzymes listed?',\n",
       " 'What is the maximum Online Mendelian Inheritance in Man (OMIM) value of the enzymes?',\n",
       " 'What is the maximum OMIM value in the database?',\n",
       " \"What is the product, chromosome and porphyria related to the enzymes which take effect at the location 'Cytosol'?\",\n",
       " \"What is the product, chromosome, and porphyria of the enzymes located at 'Cytosol'?\",\n",
       " \"What are the names of enzymes who does not produce 'Heme'?\",\n",
       " \"What are the names of enzymes whose product is not 'Heme'?\",\n",
       " \"What are the names and trade names of the medicines which has 'Yes' value in the FDA record?\",\n",
       " 'What are the names and trade names of the medcines that are FDA approved?',\n",
       " \"What are the names of enzymes in the medicine named 'Amisulpride' that can serve as an 'inhibitor'?\",\n",
       " 'What are the names of the enzymes used in the medicine  Amisulpride that acts as inhibitors?',\n",
       " 'What are the ids and names of the medicine that can interact with two or more enzymes?',\n",
       " 'For every medicine id, what are the names of the medicines that can interact with more than one enzyme?',\n",
       " 'What are the ids, names and FDA approval status of medicines in descending order of the number of enzymes that it can interact with.',\n",
       " 'What are the ids, names, and FDA approval status for medicines ordered by descending number of possible enzyme interactions?',\n",
       " \"What is the id and name of the enzyme with most number of medicines that can interact as 'activator'?\",\n",
       " 'What is the id and name of the enzyme that can interact with the most medicines as an activator?',\n",
       " \"What is the interaction type of the enzyme named 'ALA synthase' and the medicine named 'Aripiprazole'?\",\n",
       " \"What is the type of interaction for the enzyme named 'ALA synthase' and the medicine named 'Aripiprazole'?\",\n",
       " 'What is the most common interaction type between enzymes and medicine? And how many are there?',\n",
       " 'What are the most common types of interactions between enzymes and medicine, and how many types are there?',\n",
       " \"How many medicines have the FDA approval status 'No' ?\",\n",
       " 'How many medicines were not approved by the FDA?',\n",
       " 'How many enzymes do not have any interactions?',\n",
       " 'What is the count of enzymes without any interactions?',\n",
       " 'What is the id and trade name of the medicines can interact with at least 3 enzymes?',\n",
       " 'What are the ids and trade names of the medicine that can interact with at least 3 enzymes?',\n",
       " \"What are the distinct name, location and products of the enzymes which has any 'inhibitor' interaction?\",\n",
       " 'What are the different names, locations, and products of the enzymes that are capable inhibitor interactions?',\n",
       " \"List the medicine name and trade name which can both interact as 'inhibitor' and 'activitor' with enzymes.\",\n",
       " 'What are the medicine and trade names that can interact as an inhibitor and activitor with enzymes?',\n",
       " \"Show the medicine names and trade names that cannot interact with the enzyme with product 'Heme'.\",\n",
       " \"What are the medicine and trade names that cannot interact with the enzyme with the product 'Heme'?\",\n",
       " 'How many distinct FDA approval statuses are there for the medicines?',\n",
       " 'How many different FDA approval statuses exist for medicines?',\n",
       " 'Which enzyme names have the substring \"ALA\"?',\n",
       " \"What are the names of enzymes that include the string 'ALA'?\",\n",
       " 'find the number of medicines offered by each trade.',\n",
       " 'How many medicines are offered by each trade name?',\n",
       " 'List all schools and their nicknames in the order of founded year.',\n",
       " 'What are the different schools and their nicknames, ordered by their founding years?',\n",
       " 'List all public schools and their locations.',\n",
       " 'What are the public schools and what are their locations?',\n",
       " 'When was the school with the largest enrollment founded?',\n",
       " 'Return the founded year for the school with the largest enrollment.',\n",
       " 'Find the founded year of the newest non public school.',\n",
       " 'What is the founded year of the non public school that was founded most recently?',\n",
       " 'How many schools are in the basketball match?',\n",
       " 'Count the number of schools that have had basketball matches.',\n",
       " 'What is the highest acc percent score in the competition?',\n",
       " 'Return the highest acc percent across all basketball matches.',\n",
       " 'What is the primary conference of the school that has the lowest acc percent score in the competition?',\n",
       " 'Return the primary conference of the school with the lowest acc percentage score.',\n",
       " 'What is the team name and acc regular season score of the school that was founded for the longest time?',\n",
       " 'Return the name of the team and the acc during the regular season for the school that was founded the earliest.',\n",
       " 'Find the location and all games score of the school that has Clemson as its team name.',\n",
       " 'What are the all games score and location of the school called Clemson?',\n",
       " 'What are the average enrollment size of the universities that are founded before 1850?',\n",
       " 'Return the average enrollment of universities founded before 1850.',\n",
       " 'Show the enrollment and primary_conference of the oldest college.',\n",
       " 'What are the enrollment and primary conference for the university which was founded the earliest?',\n",
       " 'What is the total and minimum enrollment of all schools?',\n",
       " ...]"
      ]
     },
     "execution_count": 50,
     "metadata": {},
     "output_type": "execute_result"
    }
   ],
   "source": [
    "#List all employees who joined after 2020 ### SELECT * FROM employees WHERE join_date > '2020-01-01';\n",
    "train_data['train_questions']"
   ]
  },
  {
   "cell_type": "code",
   "execution_count": null,
   "metadata": {},
   "outputs": [],
   "source": []
  }
 ],
 "metadata": {
  "kernelspec": {
   "display_name": "ft_llama",
   "language": "python",
   "name": "python3"
  },
  "language_info": {
   "codemirror_mode": {
    "name": "ipython",
    "version": 3
   },
   "file_extension": ".py",
   "mimetype": "text/x-python",
   "name": "python",
   "nbconvert_exporter": "python",
   "pygments_lexer": "ipython3",
   "version": "3.11.9"
  }
 },
 "nbformat": 4,
 "nbformat_minor": 2
}
